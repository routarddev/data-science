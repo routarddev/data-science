{
 "cells": [
  {
   "cell_type": "markdown",
   "metadata": {},
   "source": [
    "# Classification Problem Report\n",
    "\n",
    "Author: Sandra Marcos Bonet\n",
    "\n",
    "### Index\n",
    "\n",
    "* [1 Data](#chapter1)\n",
    "    * [1.1 Reading the data](#section_1_1)\n",
    "    * [1.2 EDA](#section_1_2)\n",
    "    * [1.3 Preparing the data](#section_1_3)\n",
    "* [2 Classifier Exploration](#chapter2)\n",
    "    * [2.1 Choosing the right estimator](#section_2_1)\n",
    "    * [2.2 Classifiers](sSection_2_2)\n",
    "        * [2.2.1 SVM](#section_2_2_1)\n",
    "        * [2.2.2 KNN](#section_2_2_2)\n",
    "        * [2.2.3 Random Forest](#section_2_2_3)\n",
    "* [3. Model Comparison](#chapter3)\n",
    "* [4. Conclusions](#chapter4)"
   ]
  },
  {
   "cell_type": "markdown",
   "metadata": {},
   "source": [
    "<a name='chapter1'></a>\n",
    "# 1. Data\n",
    "\n",
    "<a name='section_1_1'></a>\n",
    "## 1.1. Reading the data"
   ]
  },
  {
   "cell_type": "code",
   "execution_count": 1,
   "metadata": {},
   "outputs": [],
   "source": [
    "import pandas as pd\n",
    "import numpy as np\n",
    "import seaborn as sns\n",
    "import matplotlib.pyplot as plt\n",
    "from IPython.display import display"
   ]
  },
  {
   "cell_type": "code",
   "execution_count": 2,
   "metadata": {},
   "outputs": [
    {
     "data": {
      "text/html": [
       "<div>\n",
       "<style scoped>\n",
       "    .dataframe tbody tr th:only-of-type {\n",
       "        vertical-align: middle;\n",
       "    }\n",
       "\n",
       "    .dataframe tbody tr th {\n",
       "        vertical-align: top;\n",
       "    }\n",
       "\n",
       "    .dataframe thead th {\n",
       "        text-align: right;\n",
       "    }\n",
       "</style>\n",
       "<table border=\"1\" class=\"dataframe\">\n",
       "  <thead>\n",
       "    <tr style=\"text-align: right;\">\n",
       "      <th></th>\n",
       "      <th>avg_words_per_sentence</th>\n",
       "      <th>avg_word_size</th>\n",
       "      <th>n_sentences</th>\n",
       "      <th>ttr</th>\n",
       "      <th>text_length</th>\n",
       "      <th>upper_case</th>\n",
       "      <th>upper_case_ratio</th>\n",
       "      <th>quotes_count</th>\n",
       "      <th>quotes_ratio</th>\n",
       "      <th>entities_ratio</th>\n",
       "      <th>ratio_ADJ</th>\n",
       "      <th>ratio_ADP</th>\n",
       "      <th>ratio_ADV</th>\n",
       "      <th>ratio_DET</th>\n",
       "      <th>ratio_NOUN</th>\n",
       "      <th>ratio_PRON</th>\n",
       "      <th>ratio_PROPN</th>\n",
       "      <th>ratio_PUNCT</th>\n",
       "      <th>ratio_SYM</th>\n",
       "      <th>ratio_VERB</th>\n",
       "      <th>sentiment</th>\n",
       "      <th>id</th>\n",
       "      <th>Type</th>\n",
       "      <th>t_avg_words_per_sentence</th>\n",
       "      <th>t_avg_word_size</th>\n",
       "      <th>t_n_sentences</th>\n",
       "      <th>t_ttr</th>\n",
       "      <th>t_text_length</th>\n",
       "      <th>t_upper_case</th>\n",
       "      <th>t_upper_case_ratio</th>\n",
       "      <th>t_quotes_count</th>\n",
       "      <th>t_quotes_ratio</th>\n",
       "      <th>t_entities_ratio</th>\n",
       "      <th>t_ratio_ADJ</th>\n",
       "      <th>t_ratio_ADP</th>\n",
       "      <th>t_ratio_ADV</th>\n",
       "      <th>t_ratio_DET</th>\n",
       "      <th>t_ratio_NOUN</th>\n",
       "      <th>t_ratio_PRON</th>\n",
       "      <th>t_ratio_PROPN</th>\n",
       "      <th>t_ratio_PUNCT</th>\n",
       "      <th>t_ratio_SYM</th>\n",
       "      <th>t_ratio_VERB</th>\n",
       "      <th>t_sentiment</th>\n",
       "    </tr>\n",
       "  </thead>\n",
       "  <tbody>\n",
       "    <tr>\n",
       "      <th>0</th>\n",
       "      <td>48.100000</td>\n",
       "      <td>4.248986</td>\n",
       "      <td>10</td>\n",
       "      <td>0.869260</td>\n",
       "      <td>2509</td>\n",
       "      <td>169</td>\n",
       "      <td>0.067358</td>\n",
       "      <td>2</td>\n",
       "      <td>0.000797</td>\n",
       "      <td>0.002391</td>\n",
       "      <td>0.009566</td>\n",
       "      <td>0.023914</td>\n",
       "      <td>0.011160</td>\n",
       "      <td>0.026704</td>\n",
       "      <td>0.033081</td>\n",
       "      <td>0.011160</td>\n",
       "      <td>0.010363</td>\n",
       "      <td>0.017138</td>\n",
       "      <td>0.000399</td>\n",
       "      <td>0.018733</td>\n",
       "      <td>-0.174672</td>\n",
       "      <td>1</td>\n",
       "      <td>False</td>\n",
       "      <td>18.0</td>\n",
       "      <td>4.944444</td>\n",
       "      <td>1</td>\n",
       "      <td>0.888889</td>\n",
       "      <td>106</td>\n",
       "      <td>85</td>\n",
       "      <td>0.801887</td>\n",
       "      <td>0</td>\n",
       "      <td>0.000000</td>\n",
       "      <td>0.000000</td>\n",
       "      <td>0.018868</td>\n",
       "      <td>0.037736</td>\n",
       "      <td>0.0</td>\n",
       "      <td>0.018868</td>\n",
       "      <td>0.037736</td>\n",
       "      <td>0.009434</td>\n",
       "      <td>0.028302</td>\n",
       "      <td>0.000000</td>\n",
       "      <td>0.009434</td>\n",
       "      <td>0.009434</td>\n",
       "      <td>0.00</td>\n",
       "    </tr>\n",
       "    <tr>\n",
       "      <th>1</th>\n",
       "      <td>29.066667</td>\n",
       "      <td>4.508929</td>\n",
       "      <td>15</td>\n",
       "      <td>0.890855</td>\n",
       "      <td>2363</td>\n",
       "      <td>91</td>\n",
       "      <td>0.038510</td>\n",
       "      <td>2</td>\n",
       "      <td>0.000846</td>\n",
       "      <td>0.007194</td>\n",
       "      <td>0.008887</td>\n",
       "      <td>0.023699</td>\n",
       "      <td>0.005078</td>\n",
       "      <td>0.030893</td>\n",
       "      <td>0.030470</td>\n",
       "      <td>0.009310</td>\n",
       "      <td>0.022006</td>\n",
       "      <td>0.019890</td>\n",
       "      <td>0.005501</td>\n",
       "      <td>0.016504</td>\n",
       "      <td>0.128205</td>\n",
       "      <td>2</td>\n",
       "      <td>True</td>\n",
       "      <td>11.0</td>\n",
       "      <td>5.363636</td>\n",
       "      <td>1</td>\n",
       "      <td>0.818182</td>\n",
       "      <td>69</td>\n",
       "      <td>1</td>\n",
       "      <td>0.014493</td>\n",
       "      <td>0</td>\n",
       "      <td>0.000000</td>\n",
       "      <td>0.014493</td>\n",
       "      <td>0.000000</td>\n",
       "      <td>0.043478</td>\n",
       "      <td>0.0</td>\n",
       "      <td>0.028986</td>\n",
       "      <td>0.057971</td>\n",
       "      <td>0.000000</td>\n",
       "      <td>0.014493</td>\n",
       "      <td>0.000000</td>\n",
       "      <td>0.000000</td>\n",
       "      <td>0.014493</td>\n",
       "      <td>0.00</td>\n",
       "    </tr>\n",
       "    <tr>\n",
       "      <th>2</th>\n",
       "      <td>24.277778</td>\n",
       "      <td>4.189070</td>\n",
       "      <td>18</td>\n",
       "      <td>0.888000</td>\n",
       "      <td>2206</td>\n",
       "      <td>52</td>\n",
       "      <td>0.023572</td>\n",
       "      <td>13</td>\n",
       "      <td>0.005893</td>\n",
       "      <td>0.002720</td>\n",
       "      <td>0.011333</td>\n",
       "      <td>0.021759</td>\n",
       "      <td>0.007253</td>\n",
       "      <td>0.026745</td>\n",
       "      <td>0.030372</td>\n",
       "      <td>0.009066</td>\n",
       "      <td>0.014506</td>\n",
       "      <td>0.035358</td>\n",
       "      <td>0.000000</td>\n",
       "      <td>0.019946</td>\n",
       "      <td>0.112360</td>\n",
       "      <td>3</td>\n",
       "      <td>True</td>\n",
       "      <td>10.0</td>\n",
       "      <td>4.500000</td>\n",
       "      <td>1</td>\n",
       "      <td>1.000000</td>\n",
       "      <td>52</td>\n",
       "      <td>5</td>\n",
       "      <td>0.096154</td>\n",
       "      <td>1</td>\n",
       "      <td>0.019231</td>\n",
       "      <td>0.000000</td>\n",
       "      <td>0.000000</td>\n",
       "      <td>0.019231</td>\n",
       "      <td>0.0</td>\n",
       "      <td>0.038462</td>\n",
       "      <td>0.019231</td>\n",
       "      <td>0.000000</td>\n",
       "      <td>0.038462</td>\n",
       "      <td>0.038462</td>\n",
       "      <td>0.000000</td>\n",
       "      <td>0.038462</td>\n",
       "      <td>0.00</td>\n",
       "    </tr>\n",
       "    <tr>\n",
       "      <th>3</th>\n",
       "      <td>32.666667</td>\n",
       "      <td>4.225242</td>\n",
       "      <td>9</td>\n",
       "      <td>0.840667</td>\n",
       "      <td>1528</td>\n",
       "      <td>61</td>\n",
       "      <td>0.039921</td>\n",
       "      <td>1</td>\n",
       "      <td>0.000654</td>\n",
       "      <td>0.009162</td>\n",
       "      <td>0.007199</td>\n",
       "      <td>0.034686</td>\n",
       "      <td>0.001963</td>\n",
       "      <td>0.034031</td>\n",
       "      <td>0.035340</td>\n",
       "      <td>0.005890</td>\n",
       "      <td>0.022906</td>\n",
       "      <td>0.019634</td>\n",
       "      <td>0.000000</td>\n",
       "      <td>0.019634</td>\n",
       "      <td>0.176056</td>\n",
       "      <td>4</td>\n",
       "      <td>True</td>\n",
       "      <td>7.0</td>\n",
       "      <td>6.000000</td>\n",
       "      <td>1</td>\n",
       "      <td>1.000000</td>\n",
       "      <td>48</td>\n",
       "      <td>3</td>\n",
       "      <td>0.062500</td>\n",
       "      <td>0</td>\n",
       "      <td>0.000000</td>\n",
       "      <td>0.041667</td>\n",
       "      <td>0.000000</td>\n",
       "      <td>0.020833</td>\n",
       "      <td>0.0</td>\n",
       "      <td>0.000000</td>\n",
       "      <td>0.000000</td>\n",
       "      <td>0.000000</td>\n",
       "      <td>0.062500</td>\n",
       "      <td>0.000000</td>\n",
       "      <td>0.000000</td>\n",
       "      <td>0.041667</td>\n",
       "      <td>0.00</td>\n",
       "    </tr>\n",
       "    <tr>\n",
       "      <th>4</th>\n",
       "      <td>45.272727</td>\n",
       "      <td>4.929401</td>\n",
       "      <td>11</td>\n",
       "      <td>0.811680</td>\n",
       "      <td>2878</td>\n",
       "      <td>56</td>\n",
       "      <td>0.019458</td>\n",
       "      <td>6</td>\n",
       "      <td>0.002085</td>\n",
       "      <td>0.009034</td>\n",
       "      <td>0.014593</td>\n",
       "      <td>0.021195</td>\n",
       "      <td>0.006254</td>\n",
       "      <td>0.025365</td>\n",
       "      <td>0.029882</td>\n",
       "      <td>0.007992</td>\n",
       "      <td>0.014246</td>\n",
       "      <td>0.014593</td>\n",
       "      <td>0.000000</td>\n",
       "      <td>0.019458</td>\n",
       "      <td>0.404858</td>\n",
       "      <td>5</td>\n",
       "      <td>False</td>\n",
       "      <td>11.0</td>\n",
       "      <td>5.181818</td>\n",
       "      <td>1</td>\n",
       "      <td>1.000000</td>\n",
       "      <td>67</td>\n",
       "      <td>6</td>\n",
       "      <td>0.089552</td>\n",
       "      <td>0</td>\n",
       "      <td>0.000000</td>\n",
       "      <td>0.029851</td>\n",
       "      <td>0.014925</td>\n",
       "      <td>0.029851</td>\n",
       "      <td>0.0</td>\n",
       "      <td>0.014925</td>\n",
       "      <td>0.014925</td>\n",
       "      <td>0.000000</td>\n",
       "      <td>0.074627</td>\n",
       "      <td>0.000000</td>\n",
       "      <td>0.000000</td>\n",
       "      <td>0.014925</td>\n",
       "      <td>1.25</td>\n",
       "    </tr>\n",
       "  </tbody>\n",
       "</table>\n",
       "</div>"
      ],
      "text/plain": [
       "   avg_words_per_sentence  avg_word_size  n_sentences       ttr  text_length  \\\n",
       "0               48.100000       4.248986           10  0.869260         2509   \n",
       "1               29.066667       4.508929           15  0.890855         2363   \n",
       "2               24.277778       4.189070           18  0.888000         2206   \n",
       "3               32.666667       4.225242            9  0.840667         1528   \n",
       "4               45.272727       4.929401           11  0.811680         2878   \n",
       "\n",
       "   upper_case  upper_case_ratio  quotes_count  quotes_ratio  entities_ratio  \\\n",
       "0         169          0.067358             2      0.000797        0.002391   \n",
       "1          91          0.038510             2      0.000846        0.007194   \n",
       "2          52          0.023572            13      0.005893        0.002720   \n",
       "3          61          0.039921             1      0.000654        0.009162   \n",
       "4          56          0.019458             6      0.002085        0.009034   \n",
       "\n",
       "   ratio_ADJ  ratio_ADP  ratio_ADV  ratio_DET  ratio_NOUN  ratio_PRON  \\\n",
       "0   0.009566   0.023914   0.011160   0.026704    0.033081    0.011160   \n",
       "1   0.008887   0.023699   0.005078   0.030893    0.030470    0.009310   \n",
       "2   0.011333   0.021759   0.007253   0.026745    0.030372    0.009066   \n",
       "3   0.007199   0.034686   0.001963   0.034031    0.035340    0.005890   \n",
       "4   0.014593   0.021195   0.006254   0.025365    0.029882    0.007992   \n",
       "\n",
       "   ratio_PROPN  ratio_PUNCT  ratio_SYM  ratio_VERB  sentiment  id   Type  \\\n",
       "0     0.010363     0.017138   0.000399    0.018733  -0.174672   1  False   \n",
       "1     0.022006     0.019890   0.005501    0.016504   0.128205   2   True   \n",
       "2     0.014506     0.035358   0.000000    0.019946   0.112360   3   True   \n",
       "3     0.022906     0.019634   0.000000    0.019634   0.176056   4   True   \n",
       "4     0.014246     0.014593   0.000000    0.019458   0.404858   5  False   \n",
       "\n",
       "   t_avg_words_per_sentence  t_avg_word_size  t_n_sentences     t_ttr  \\\n",
       "0                      18.0         4.944444              1  0.888889   \n",
       "1                      11.0         5.363636              1  0.818182   \n",
       "2                      10.0         4.500000              1  1.000000   \n",
       "3                       7.0         6.000000              1  1.000000   \n",
       "4                      11.0         5.181818              1  1.000000   \n",
       "\n",
       "   t_text_length  t_upper_case  t_upper_case_ratio  t_quotes_count  \\\n",
       "0            106            85            0.801887               0   \n",
       "1             69             1            0.014493               0   \n",
       "2             52             5            0.096154               1   \n",
       "3             48             3            0.062500               0   \n",
       "4             67             6            0.089552               0   \n",
       "\n",
       "   t_quotes_ratio  t_entities_ratio  t_ratio_ADJ  t_ratio_ADP  t_ratio_ADV  \\\n",
       "0        0.000000          0.000000     0.018868     0.037736          0.0   \n",
       "1        0.000000          0.014493     0.000000     0.043478          0.0   \n",
       "2        0.019231          0.000000     0.000000     0.019231          0.0   \n",
       "3        0.000000          0.041667     0.000000     0.020833          0.0   \n",
       "4        0.000000          0.029851     0.014925     0.029851          0.0   \n",
       "\n",
       "   t_ratio_DET  t_ratio_NOUN  t_ratio_PRON  t_ratio_PROPN  t_ratio_PUNCT  \\\n",
       "0     0.018868      0.037736      0.009434       0.028302       0.000000   \n",
       "1     0.028986      0.057971      0.000000       0.014493       0.000000   \n",
       "2     0.038462      0.019231      0.000000       0.038462       0.038462   \n",
       "3     0.000000      0.000000      0.000000       0.062500       0.000000   \n",
       "4     0.014925      0.014925      0.000000       0.074627       0.000000   \n",
       "\n",
       "   t_ratio_SYM  t_ratio_VERB  t_sentiment  \n",
       "0     0.009434      0.009434         0.00  \n",
       "1     0.000000      0.014493         0.00  \n",
       "2     0.000000      0.038462         0.00  \n",
       "3     0.000000      0.041667         0.00  \n",
       "4     0.000000      0.014925         1.25  "
      ]
     },
     "execution_count": 2,
     "metadata": {},
     "output_type": "execute_result"
    }
   ],
   "source": [
    "df = pd.read_csv(\"dataset_test.csv\", sep=\";\", decimal=\",\")\n",
    "# Show all columns\n",
    "pd.options.display.max_columns = None\n",
    "df.head()"
   ]
  },
  {
   "cell_type": "markdown",
   "metadata": {},
   "source": [
    "<a name='section_1_2'></a>\n",
    "## Exploratory Data Analysis (EDA)\n",
    "\n",
    "In this section we will explore the data we have.\n",
    "First, we will have a look at the statistical information about each feature. Later we'll check the size of the dataset, which paramenters and kind of data do we have, etc.\n",
    "This exploratory data analysis will be useful to understand more the data we will be working with and, if necessary, treat the data in order to prepare it for further steps.\n"
   ]
  },
  {
   "cell_type": "code",
   "execution_count": 3,
   "metadata": {},
   "outputs": [
    {
     "data": {
      "text/html": [
       "<div>\n",
       "<style scoped>\n",
       "    .dataframe tbody tr th:only-of-type {\n",
       "        vertical-align: middle;\n",
       "    }\n",
       "\n",
       "    .dataframe tbody tr th {\n",
       "        vertical-align: top;\n",
       "    }\n",
       "\n",
       "    .dataframe thead th {\n",
       "        text-align: right;\n",
       "    }\n",
       "</style>\n",
       "<table border=\"1\" class=\"dataframe\">\n",
       "  <thead>\n",
       "    <tr style=\"text-align: right;\">\n",
       "      <th></th>\n",
       "      <th>avg_words_per_sentence</th>\n",
       "      <th>avg_word_size</th>\n",
       "      <th>n_sentences</th>\n",
       "      <th>ttr</th>\n",
       "      <th>text_length</th>\n",
       "      <th>upper_case</th>\n",
       "      <th>upper_case_ratio</th>\n",
       "      <th>quotes_count</th>\n",
       "      <th>quotes_ratio</th>\n",
       "      <th>entities_ratio</th>\n",
       "      <th>ratio_ADJ</th>\n",
       "      <th>ratio_ADP</th>\n",
       "      <th>ratio_ADV</th>\n",
       "      <th>ratio_DET</th>\n",
       "      <th>ratio_NOUN</th>\n",
       "      <th>ratio_PRON</th>\n",
       "      <th>ratio_PROPN</th>\n",
       "      <th>ratio_PUNCT</th>\n",
       "      <th>ratio_SYM</th>\n",
       "      <th>ratio_VERB</th>\n",
       "      <th>sentiment</th>\n",
       "      <th>id</th>\n",
       "      <th>t_avg_words_per_sentence</th>\n",
       "      <th>t_avg_word_size</th>\n",
       "      <th>t_n_sentences</th>\n",
       "      <th>t_ttr</th>\n",
       "      <th>t_text_length</th>\n",
       "      <th>t_upper_case</th>\n",
       "      <th>t_upper_case_ratio</th>\n",
       "      <th>t_quotes_count</th>\n",
       "      <th>t_quotes_ratio</th>\n",
       "      <th>t_entities_ratio</th>\n",
       "      <th>t_ratio_ADJ</th>\n",
       "      <th>t_ratio_ADP</th>\n",
       "      <th>t_ratio_ADV</th>\n",
       "      <th>t_ratio_DET</th>\n",
       "      <th>t_ratio_NOUN</th>\n",
       "      <th>t_ratio_PRON</th>\n",
       "      <th>t_ratio_PROPN</th>\n",
       "      <th>t_ratio_PUNCT</th>\n",
       "      <th>t_ratio_SYM</th>\n",
       "      <th>t_ratio_VERB</th>\n",
       "      <th>t_sentiment</th>\n",
       "    </tr>\n",
       "  </thead>\n",
       "  <tbody>\n",
       "    <tr>\n",
       "      <th>count</th>\n",
       "      <td>971.000000</td>\n",
       "      <td>971.000000</td>\n",
       "      <td>971.000000</td>\n",
       "      <td>971.000000</td>\n",
       "      <td>971.000000</td>\n",
       "      <td>971.000000</td>\n",
       "      <td>971.000000</td>\n",
       "      <td>971.000000</td>\n",
       "      <td>971.000000</td>\n",
       "      <td>971.000000</td>\n",
       "      <td>971.000000</td>\n",
       "      <td>971.000000</td>\n",
       "      <td>971.000000</td>\n",
       "      <td>971.000000</td>\n",
       "      <td>971.000000</td>\n",
       "      <td>971.000000</td>\n",
       "      <td>971.000000</td>\n",
       "      <td>971.000000</td>\n",
       "      <td>971.000000</td>\n",
       "      <td>971.000000</td>\n",
       "      <td>971.000000</td>\n",
       "      <td>971.000000</td>\n",
       "      <td>971.000000</td>\n",
       "      <td>971.000000</td>\n",
       "      <td>971.000000</td>\n",
       "      <td>971.000000</td>\n",
       "      <td>971.000000</td>\n",
       "      <td>971.000000</td>\n",
       "      <td>971.000000</td>\n",
       "      <td>971.000000</td>\n",
       "      <td>971.000000</td>\n",
       "      <td>971.000000</td>\n",
       "      <td>971.000000</td>\n",
       "      <td>971.000000</td>\n",
       "      <td>971.000000</td>\n",
       "      <td>971.000000</td>\n",
       "      <td>971.000000</td>\n",
       "      <td>971.000000</td>\n",
       "      <td>971.000000</td>\n",
       "      <td>971.000000</td>\n",
       "      <td>971.000000</td>\n",
       "      <td>971.000000</td>\n",
       "      <td>971.000000</td>\n",
       "    </tr>\n",
       "    <tr>\n",
       "      <th>mean</th>\n",
       "      <td>38.025655</td>\n",
       "      <td>4.471700</td>\n",
       "      <td>13.058702</td>\n",
       "      <td>0.858110</td>\n",
       "      <td>2354.879506</td>\n",
       "      <td>97.870237</td>\n",
       "      <td>0.041677</td>\n",
       "      <td>3.670443</td>\n",
       "      <td>0.001590</td>\n",
       "      <td>0.008869</td>\n",
       "      <td>0.010790</td>\n",
       "      <td>0.029025</td>\n",
       "      <td>0.006582</td>\n",
       "      <td>0.024084</td>\n",
       "      <td>0.032248</td>\n",
       "      <td>0.009133</td>\n",
       "      <td>0.019974</td>\n",
       "      <td>0.020673</td>\n",
       "      <td>0.000769</td>\n",
       "      <td>0.016825</td>\n",
       "      <td>0.028323</td>\n",
       "      <td>280.624099</td>\n",
       "      <td>12.000172</td>\n",
       "      <td>4.894989</td>\n",
       "      <td>1.018538</td>\n",
       "      <td>0.970578</td>\n",
       "      <td>67.680742</td>\n",
       "      <td>10.436663</td>\n",
       "      <td>0.144050</td>\n",
       "      <td>0.144181</td>\n",
       "      <td>0.001966</td>\n",
       "      <td>0.019677</td>\n",
       "      <td>0.009291</td>\n",
       "      <td>0.031566</td>\n",
       "      <td>0.003712</td>\n",
       "      <td>0.018852</td>\n",
       "      <td>0.030975</td>\n",
       "      <td>0.004337</td>\n",
       "      <td>0.041189</td>\n",
       "      <td>0.011799</td>\n",
       "      <td>0.002426</td>\n",
       "      <td>0.018525</td>\n",
       "      <td>-0.096635</td>\n",
       "    </tr>\n",
       "    <tr>\n",
       "      <th>std</th>\n",
       "      <td>17.751023</td>\n",
       "      <td>0.284818</td>\n",
       "      <td>11.557728</td>\n",
       "      <td>0.047932</td>\n",
       "      <td>1722.629215</td>\n",
       "      <td>88.399886</td>\n",
       "      <td>0.020603</td>\n",
       "      <td>4.207081</td>\n",
       "      <td>0.001391</td>\n",
       "      <td>0.004810</td>\n",
       "      <td>0.003188</td>\n",
       "      <td>0.004398</td>\n",
       "      <td>0.003004</td>\n",
       "      <td>0.003863</td>\n",
       "      <td>0.004895</td>\n",
       "      <td>0.003990</td>\n",
       "      <td>0.008919</td>\n",
       "      <td>0.005600</td>\n",
       "      <td>0.001407</td>\n",
       "      <td>0.004465</td>\n",
       "      <td>0.211539</td>\n",
       "      <td>190.861875</td>\n",
       "      <td>3.941849</td>\n",
       "      <td>1.359834</td>\n",
       "      <td>0.142389</td>\n",
       "      <td>0.048256</td>\n",
       "      <td>19.745834</td>\n",
       "      <td>18.871810</td>\n",
       "      <td>0.224764</td>\n",
       "      <td>0.365827</td>\n",
       "      <td>0.005134</td>\n",
       "      <td>0.016341</td>\n",
       "      <td>0.011726</td>\n",
       "      <td>0.014613</td>\n",
       "      <td>0.007734</td>\n",
       "      <td>0.014987</td>\n",
       "      <td>0.017509</td>\n",
       "      <td>0.008171</td>\n",
       "      <td>0.024088</td>\n",
       "      <td>0.016946</td>\n",
       "      <td>0.008962</td>\n",
       "      <td>0.012641</td>\n",
       "      <td>0.639606</td>\n",
       "    </tr>\n",
       "    <tr>\n",
       "      <th>min</th>\n",
       "      <td>11.944444</td>\n",
       "      <td>3.492068</td>\n",
       "      <td>1.000000</td>\n",
       "      <td>0.489311</td>\n",
       "      <td>124.000000</td>\n",
       "      <td>5.000000</td>\n",
       "      <td>0.005102</td>\n",
       "      <td>0.000000</td>\n",
       "      <td>0.000000</td>\n",
       "      <td>0.000000</td>\n",
       "      <td>0.000000</td>\n",
       "      <td>0.008475</td>\n",
       "      <td>0.000000</td>\n",
       "      <td>0.009479</td>\n",
       "      <td>0.014205</td>\n",
       "      <td>0.000920</td>\n",
       "      <td>0.000729</td>\n",
       "      <td>0.006173</td>\n",
       "      <td>0.000000</td>\n",
       "      <td>0.004742</td>\n",
       "      <td>-1.279070</td>\n",
       "      <td>1.000000</td>\n",
       "      <td>1.000000</td>\n",
       "      <td>3.100000</td>\n",
       "      <td>1.000000</td>\n",
       "      <td>0.722222</td>\n",
       "      <td>17.000000</td>\n",
       "      <td>0.000000</td>\n",
       "      <td>0.000000</td>\n",
       "      <td>0.000000</td>\n",
       "      <td>0.000000</td>\n",
       "      <td>0.000000</td>\n",
       "      <td>0.000000</td>\n",
       "      <td>0.000000</td>\n",
       "      <td>0.000000</td>\n",
       "      <td>0.000000</td>\n",
       "      <td>0.000000</td>\n",
       "      <td>0.000000</td>\n",
       "      <td>0.000000</td>\n",
       "      <td>0.000000</td>\n",
       "      <td>0.000000</td>\n",
       "      <td>0.000000</td>\n",
       "      <td>-2.500000</td>\n",
       "    </tr>\n",
       "    <tr>\n",
       "      <th>25%</th>\n",
       "      <td>28.632997</td>\n",
       "      <td>4.291633</td>\n",
       "      <td>7.000000</td>\n",
       "      <td>0.826936</td>\n",
       "      <td>1354.500000</td>\n",
       "      <td>44.000000</td>\n",
       "      <td>0.027415</td>\n",
       "      <td>1.000000</td>\n",
       "      <td>0.000586</td>\n",
       "      <td>0.005382</td>\n",
       "      <td>0.008763</td>\n",
       "      <td>0.026047</td>\n",
       "      <td>0.004405</td>\n",
       "      <td>0.021646</td>\n",
       "      <td>0.028936</td>\n",
       "      <td>0.006320</td>\n",
       "      <td>0.013604</td>\n",
       "      <td>0.016808</td>\n",
       "      <td>0.000000</td>\n",
       "      <td>0.013649</td>\n",
       "      <td>-0.105542</td>\n",
       "      <td>122.000000</td>\n",
       "      <td>9.000000</td>\n",
       "      <td>4.307692</td>\n",
       "      <td>1.000000</td>\n",
       "      <td>0.937500</td>\n",
       "      <td>54.000000</td>\n",
       "      <td>3.000000</td>\n",
       "      <td>0.041096</td>\n",
       "      <td>0.000000</td>\n",
       "      <td>0.000000</td>\n",
       "      <td>0.000000</td>\n",
       "      <td>0.000000</td>\n",
       "      <td>0.021739</td>\n",
       "      <td>0.000000</td>\n",
       "      <td>0.000000</td>\n",
       "      <td>0.018519</td>\n",
       "      <td>0.000000</td>\n",
       "      <td>0.024100</td>\n",
       "      <td>0.000000</td>\n",
       "      <td>0.000000</td>\n",
       "      <td>0.011976</td>\n",
       "      <td>-0.555556</td>\n",
       "    </tr>\n",
       "    <tr>\n",
       "      <th>50%</th>\n",
       "      <td>35.869565</td>\n",
       "      <td>4.480323</td>\n",
       "      <td>10.000000</td>\n",
       "      <td>0.860806</td>\n",
       "      <td>1896.000000</td>\n",
       "      <td>73.000000</td>\n",
       "      <td>0.037480</td>\n",
       "      <td>2.000000</td>\n",
       "      <td>0.001382</td>\n",
       "      <td>0.008248</td>\n",
       "      <td>0.010650</td>\n",
       "      <td>0.028910</td>\n",
       "      <td>0.006350</td>\n",
       "      <td>0.023973</td>\n",
       "      <td>0.032284</td>\n",
       "      <td>0.008879</td>\n",
       "      <td>0.018478</td>\n",
       "      <td>0.020050</td>\n",
       "      <td>0.000290</td>\n",
       "      <td>0.016600</td>\n",
       "      <td>0.036765</td>\n",
       "      <td>243.000000</td>\n",
       "      <td>12.000000</td>\n",
       "      <td>4.791667</td>\n",
       "      <td>1.000000</td>\n",
       "      <td>1.000000</td>\n",
       "      <td>67.000000</td>\n",
       "      <td>4.000000</td>\n",
       "      <td>0.067797</td>\n",
       "      <td>0.000000</td>\n",
       "      <td>0.000000</td>\n",
       "      <td>0.017391</td>\n",
       "      <td>0.000000</td>\n",
       "      <td>0.030928</td>\n",
       "      <td>0.000000</td>\n",
       "      <td>0.017544</td>\n",
       "      <td>0.029851</td>\n",
       "      <td>0.000000</td>\n",
       "      <td>0.039216</td>\n",
       "      <td>0.000000</td>\n",
       "      <td>0.000000</td>\n",
       "      <td>0.017241</td>\n",
       "      <td>0.000000</td>\n",
       "    </tr>\n",
       "    <tr>\n",
       "      <th>75%</th>\n",
       "      <td>43.679487</td>\n",
       "      <td>4.652157</td>\n",
       "      <td>15.000000</td>\n",
       "      <td>0.893743</td>\n",
       "      <td>2816.500000</td>\n",
       "      <td>121.000000</td>\n",
       "      <td>0.051287</td>\n",
       "      <td>5.000000</td>\n",
       "      <td>0.002302</td>\n",
       "      <td>0.011533</td>\n",
       "      <td>0.012567</td>\n",
       "      <td>0.031949</td>\n",
       "      <td>0.008429</td>\n",
       "      <td>0.026691</td>\n",
       "      <td>0.035481</td>\n",
       "      <td>0.011330</td>\n",
       "      <td>0.024601</td>\n",
       "      <td>0.024096</td>\n",
       "      <td>0.001019</td>\n",
       "      <td>0.019724</td>\n",
       "      <td>0.159809</td>\n",
       "      <td>433.500000</td>\n",
       "      <td>14.000000</td>\n",
       "      <td>5.300000</td>\n",
       "      <td>1.000000</td>\n",
       "      <td>1.000000</td>\n",
       "      <td>79.000000</td>\n",
       "      <td>7.000000</td>\n",
       "      <td>0.111111</td>\n",
       "      <td>0.000000</td>\n",
       "      <td>0.000000</td>\n",
       "      <td>0.030303</td>\n",
       "      <td>0.015873</td>\n",
       "      <td>0.041667</td>\n",
       "      <td>0.000000</td>\n",
       "      <td>0.028571</td>\n",
       "      <td>0.042254</td>\n",
       "      <td>0.008511</td>\n",
       "      <td>0.056604</td>\n",
       "      <td>0.020000</td>\n",
       "      <td>0.000000</td>\n",
       "      <td>0.025641</td>\n",
       "      <td>0.000000</td>\n",
       "    </tr>\n",
       "    <tr>\n",
       "      <th>max</th>\n",
       "      <td>421.000000</td>\n",
       "      <td>5.470588</td>\n",
       "      <td>104.000000</td>\n",
       "      <td>0.985450</td>\n",
       "      <td>15344.000000</td>\n",
       "      <td>882.000000</td>\n",
       "      <td>0.206358</td>\n",
       "      <td>36.000000</td>\n",
       "      <td>0.008535</td>\n",
       "      <td>0.031120</td>\n",
       "      <td>0.025157</td>\n",
       "      <td>0.045946</td>\n",
       "      <td>0.019462</td>\n",
       "      <td>0.038007</td>\n",
       "      <td>0.047761</td>\n",
       "      <td>0.027864</td>\n",
       "      <td>0.062339</td>\n",
       "      <td>0.044458</td>\n",
       "      <td>0.016376</td>\n",
       "      <td>0.032670</td>\n",
       "      <td>0.714286</td>\n",
       "      <td>676.000000</td>\n",
       "      <td>29.000000</td>\n",
       "      <td>40.000000</td>\n",
       "      <td>3.000000</td>\n",
       "      <td>1.000000</td>\n",
       "      <td>151.000000</td>\n",
       "      <td>103.000000</td>\n",
       "      <td>0.900000</td>\n",
       "      <td>2.000000</td>\n",
       "      <td>0.034483</td>\n",
       "      <td>0.105263</td>\n",
       "      <td>0.095238</td>\n",
       "      <td>0.085714</td>\n",
       "      <td>0.049180</td>\n",
       "      <td>0.083333</td>\n",
       "      <td>0.120000</td>\n",
       "      <td>0.042553</td>\n",
       "      <td>0.128571</td>\n",
       "      <td>0.095238</td>\n",
       "      <td>0.078947</td>\n",
       "      <td>0.100000</td>\n",
       "      <td>2.500000</td>\n",
       "    </tr>\n",
       "  </tbody>\n",
       "</table>\n",
       "</div>"
      ],
      "text/plain": [
       "       avg_words_per_sentence  avg_word_size  n_sentences         ttr  \\\n",
       "count              971.000000     971.000000   971.000000  971.000000   \n",
       "mean                38.025655       4.471700    13.058702    0.858110   \n",
       "std                 17.751023       0.284818    11.557728    0.047932   \n",
       "min                 11.944444       3.492068     1.000000    0.489311   \n",
       "25%                 28.632997       4.291633     7.000000    0.826936   \n",
       "50%                 35.869565       4.480323    10.000000    0.860806   \n",
       "75%                 43.679487       4.652157    15.000000    0.893743   \n",
       "max                421.000000       5.470588   104.000000    0.985450   \n",
       "\n",
       "        text_length  upper_case  upper_case_ratio  quotes_count  quotes_ratio  \\\n",
       "count    971.000000  971.000000        971.000000    971.000000    971.000000   \n",
       "mean    2354.879506   97.870237          0.041677      3.670443      0.001590   \n",
       "std     1722.629215   88.399886          0.020603      4.207081      0.001391   \n",
       "min      124.000000    5.000000          0.005102      0.000000      0.000000   \n",
       "25%     1354.500000   44.000000          0.027415      1.000000      0.000586   \n",
       "50%     1896.000000   73.000000          0.037480      2.000000      0.001382   \n",
       "75%     2816.500000  121.000000          0.051287      5.000000      0.002302   \n",
       "max    15344.000000  882.000000          0.206358     36.000000      0.008535   \n",
       "\n",
       "       entities_ratio   ratio_ADJ   ratio_ADP   ratio_ADV   ratio_DET  \\\n",
       "count      971.000000  971.000000  971.000000  971.000000  971.000000   \n",
       "mean         0.008869    0.010790    0.029025    0.006582    0.024084   \n",
       "std          0.004810    0.003188    0.004398    0.003004    0.003863   \n",
       "min          0.000000    0.000000    0.008475    0.000000    0.009479   \n",
       "25%          0.005382    0.008763    0.026047    0.004405    0.021646   \n",
       "50%          0.008248    0.010650    0.028910    0.006350    0.023973   \n",
       "75%          0.011533    0.012567    0.031949    0.008429    0.026691   \n",
       "max          0.031120    0.025157    0.045946    0.019462    0.038007   \n",
       "\n",
       "       ratio_NOUN  ratio_PRON  ratio_PROPN  ratio_PUNCT   ratio_SYM  \\\n",
       "count  971.000000  971.000000   971.000000   971.000000  971.000000   \n",
       "mean     0.032248    0.009133     0.019974     0.020673    0.000769   \n",
       "std      0.004895    0.003990     0.008919     0.005600    0.001407   \n",
       "min      0.014205    0.000920     0.000729     0.006173    0.000000   \n",
       "25%      0.028936    0.006320     0.013604     0.016808    0.000000   \n",
       "50%      0.032284    0.008879     0.018478     0.020050    0.000290   \n",
       "75%      0.035481    0.011330     0.024601     0.024096    0.001019   \n",
       "max      0.047761    0.027864     0.062339     0.044458    0.016376   \n",
       "\n",
       "       ratio_VERB   sentiment          id  t_avg_words_per_sentence  \\\n",
       "count  971.000000  971.000000  971.000000                971.000000   \n",
       "mean     0.016825    0.028323  280.624099                 12.000172   \n",
       "std      0.004465    0.211539  190.861875                  3.941849   \n",
       "min      0.004742   -1.279070    1.000000                  1.000000   \n",
       "25%      0.013649   -0.105542  122.000000                  9.000000   \n",
       "50%      0.016600    0.036765  243.000000                 12.000000   \n",
       "75%      0.019724    0.159809  433.500000                 14.000000   \n",
       "max      0.032670    0.714286  676.000000                 29.000000   \n",
       "\n",
       "       t_avg_word_size  t_n_sentences       t_ttr  t_text_length  \\\n",
       "count       971.000000     971.000000  971.000000     971.000000   \n",
       "mean          4.894989       1.018538    0.970578      67.680742   \n",
       "std           1.359834       0.142389    0.048256      19.745834   \n",
       "min           3.100000       1.000000    0.722222      17.000000   \n",
       "25%           4.307692       1.000000    0.937500      54.000000   \n",
       "50%           4.791667       1.000000    1.000000      67.000000   \n",
       "75%           5.300000       1.000000    1.000000      79.000000   \n",
       "max          40.000000       3.000000    1.000000     151.000000   \n",
       "\n",
       "       t_upper_case  t_upper_case_ratio  t_quotes_count  t_quotes_ratio  \\\n",
       "count    971.000000          971.000000      971.000000      971.000000   \n",
       "mean      10.436663            0.144050        0.144181        0.001966   \n",
       "std       18.871810            0.224764        0.365827        0.005134   \n",
       "min        0.000000            0.000000        0.000000        0.000000   \n",
       "25%        3.000000            0.041096        0.000000        0.000000   \n",
       "50%        4.000000            0.067797        0.000000        0.000000   \n",
       "75%        7.000000            0.111111        0.000000        0.000000   \n",
       "max      103.000000            0.900000        2.000000        0.034483   \n",
       "\n",
       "       t_entities_ratio  t_ratio_ADJ  t_ratio_ADP  t_ratio_ADV  t_ratio_DET  \\\n",
       "count        971.000000   971.000000   971.000000   971.000000   971.000000   \n",
       "mean           0.019677     0.009291     0.031566     0.003712     0.018852   \n",
       "std            0.016341     0.011726     0.014613     0.007734     0.014987   \n",
       "min            0.000000     0.000000     0.000000     0.000000     0.000000   \n",
       "25%            0.000000     0.000000     0.021739     0.000000     0.000000   \n",
       "50%            0.017391     0.000000     0.030928     0.000000     0.017544   \n",
       "75%            0.030303     0.015873     0.041667     0.000000     0.028571   \n",
       "max            0.105263     0.095238     0.085714     0.049180     0.083333   \n",
       "\n",
       "       t_ratio_NOUN  t_ratio_PRON  t_ratio_PROPN  t_ratio_PUNCT  t_ratio_SYM  \\\n",
       "count    971.000000    971.000000     971.000000     971.000000   971.000000   \n",
       "mean       0.030975      0.004337       0.041189       0.011799     0.002426   \n",
       "std        0.017509      0.008171       0.024088       0.016946     0.008962   \n",
       "min        0.000000      0.000000       0.000000       0.000000     0.000000   \n",
       "25%        0.018519      0.000000       0.024100       0.000000     0.000000   \n",
       "50%        0.029851      0.000000       0.039216       0.000000     0.000000   \n",
       "75%        0.042254      0.008511       0.056604       0.020000     0.000000   \n",
       "max        0.120000      0.042553       0.128571       0.095238     0.078947   \n",
       "\n",
       "       t_ratio_VERB  t_sentiment  \n",
       "count    971.000000   971.000000  \n",
       "mean       0.018525    -0.096635  \n",
       "std        0.012641     0.639606  \n",
       "min        0.000000    -2.500000  \n",
       "25%        0.011976    -0.555556  \n",
       "50%        0.017241     0.000000  \n",
       "75%        0.025641     0.000000  \n",
       "max        0.100000     2.500000  "
      ]
     },
     "execution_count": 3,
     "metadata": {},
     "output_type": "execute_result"
    }
   ],
   "source": [
    "df.describe()"
   ]
  },
  {
   "cell_type": "code",
   "execution_count": 4,
   "metadata": {},
   "outputs": [
    {
     "name": "stdout",
     "output_type": "stream",
     "text": [
      "There are 971 examples with 44 features each\n"
     ]
    }
   ],
   "source": [
    "shape = df.shape\n",
    "print('There are %s examples with %s features each' % (shape[0], shape[1]))"
   ]
  },
  {
   "cell_type": "code",
   "execution_count": 5,
   "metadata": {},
   "outputs": [
    {
     "data": {
      "text/plain": [
       "Index(['avg_words_per_sentence', 'avg_word_size', 'n_sentences', 'ttr',\n",
       "       'text_length', 'upper_case', 'upper_case_ratio', 'quotes_count',\n",
       "       'quotes_ratio', 'entities_ratio', 'ratio_ADJ', 'ratio_ADP', 'ratio_ADV',\n",
       "       'ratio_DET', 'ratio_NOUN', 'ratio_PRON', 'ratio_PROPN', 'ratio_PUNCT',\n",
       "       'ratio_SYM', 'ratio_VERB', 'sentiment', 'id', 'Type',\n",
       "       't_avg_words_per_sentence', 't_avg_word_size', 't_n_sentences', 't_ttr',\n",
       "       't_text_length', 't_upper_case', 't_upper_case_ratio', 't_quotes_count',\n",
       "       't_quotes_ratio', 't_entities_ratio', 't_ratio_ADJ', 't_ratio_ADP',\n",
       "       't_ratio_ADV', 't_ratio_DET', 't_ratio_NOUN', 't_ratio_PRON',\n",
       "       't_ratio_PROPN', 't_ratio_PUNCT', 't_ratio_SYM', 't_ratio_VERB',\n",
       "       't_sentiment'],\n",
       "      dtype='object')"
      ]
     },
     "execution_count": 5,
     "metadata": {},
     "output_type": "execute_result"
    }
   ],
   "source": [
    "df.columns"
   ]
  },
  {
   "cell_type": "markdown",
   "metadata": {},
   "source": [
    "**Check if there are missing values**"
   ]
  },
  {
   "cell_type": "code",
   "execution_count": 6,
   "metadata": {},
   "outputs": [
    {
     "data": {
      "text/plain": [
       "False"
      ]
     },
     "execution_count": 6,
     "metadata": {},
     "output_type": "execute_result"
    }
   ],
   "source": [
    "df.isnull().values.any()"
   ]
  },
  {
   "cell_type": "markdown",
   "metadata": {},
   "source": [
    "**Check the type of data.**\n",
    "\n",
    "**Note:** Most of the data was firstly read as object, despite of being numerical. This was due to the decimal separator specificed as comma instead of dot. This has been fixed in the function to read the CSV adding the attribute ```decimal=\",\"```"
   ]
  },
  {
   "cell_type": "code",
   "execution_count": 7,
   "metadata": {},
   "outputs": [
    {
     "name": "stdout",
     "output_type": "stream",
     "text": [
      "<class 'pandas.core.frame.DataFrame'>\n",
      "RangeIndex: 971 entries, 0 to 970\n",
      "Data columns (total 44 columns):\n",
      "avg_words_per_sentence      971 non-null float64\n",
      "avg_word_size               971 non-null float64\n",
      "n_sentences                 971 non-null int64\n",
      "ttr                         971 non-null float64\n",
      "text_length                 971 non-null int64\n",
      "upper_case                  971 non-null int64\n",
      "upper_case_ratio            971 non-null float64\n",
      "quotes_count                971 non-null int64\n",
      "quotes_ratio                971 non-null float64\n",
      "entities_ratio              971 non-null float64\n",
      "ratio_ADJ                   971 non-null float64\n",
      "ratio_ADP                   971 non-null float64\n",
      "ratio_ADV                   971 non-null float64\n",
      "ratio_DET                   971 non-null float64\n",
      "ratio_NOUN                  971 non-null float64\n",
      "ratio_PRON                  971 non-null float64\n",
      "ratio_PROPN                 971 non-null float64\n",
      "ratio_PUNCT                 971 non-null float64\n",
      "ratio_SYM                   971 non-null float64\n",
      "ratio_VERB                  971 non-null float64\n",
      "sentiment                   971 non-null float64\n",
      "id                          971 non-null int64\n",
      "Type                        971 non-null bool\n",
      "t_avg_words_per_sentence    971 non-null float64\n",
      "t_avg_word_size             971 non-null float64\n",
      "t_n_sentences               971 non-null int64\n",
      "t_ttr                       971 non-null float64\n",
      "t_text_length               971 non-null int64\n",
      "t_upper_case                971 non-null int64\n",
      "t_upper_case_ratio          971 non-null float64\n",
      "t_quotes_count              971 non-null int64\n",
      "t_quotes_ratio              971 non-null float64\n",
      "t_entities_ratio            971 non-null float64\n",
      "t_ratio_ADJ                 971 non-null float64\n",
      "t_ratio_ADP                 971 non-null float64\n",
      "t_ratio_ADV                 971 non-null float64\n",
      "t_ratio_DET                 971 non-null float64\n",
      "t_ratio_NOUN                971 non-null float64\n",
      "t_ratio_PRON                971 non-null float64\n",
      "t_ratio_PROPN               971 non-null float64\n",
      "t_ratio_PUNCT               971 non-null float64\n",
      "t_ratio_SYM                 971 non-null float64\n",
      "t_ratio_VERB                971 non-null float64\n",
      "t_sentiment                 971 non-null float64\n",
      "dtypes: bool(1), float64(34), int64(9)\n",
      "memory usage: 327.2 KB\n"
     ]
    }
   ],
   "source": [
    "df.info()"
   ]
  },
  {
   "cell_type": "markdown",
   "metadata": {},
   "source": [
    "**Let's see if we have a balanced number of Target values.**"
   ]
  },
  {
   "cell_type": "code",
   "execution_count": 8,
   "metadata": {},
   "outputs": [
    {
     "data": {
      "text/plain": [
       "True     491\n",
       "False    480\n",
       "Name: Type, dtype: int64"
      ]
     },
     "execution_count": 8,
     "metadata": {},
     "output_type": "execute_result"
    }
   ],
   "source": [
    "df['Type'].value_counts()"
   ]
  },
  {
   "cell_type": "code",
   "execution_count": 9,
   "metadata": {},
   "outputs": [
    {
     "data": {
      "text/plain": [
       "True     0.505664\n",
       "False    0.494336\n",
       "Name: Type, dtype: float64"
      ]
     },
     "execution_count": 9,
     "metadata": {},
     "output_type": "execute_result"
    }
   ],
   "source": [
    "df['Type'].value_counts(normalize=True)"
   ]
  },
  {
   "cell_type": "markdown",
   "metadata": {},
   "source": [
    "<a name='section_1_3'></a>\n",
    "## 1. 3. Preparing the data\n",
    "\n",
    "Resources:\n",
    "* [https://machinelearningmastery.com/prepare-data-machine-learning-python-scikit-learn/](https://machinelearningmastery.com/prepare-data-machine-learning-python-scikit-learn/)\n",
    "* [https://scikit-learn.org/stable/modules/preprocessing.html#preprocessing-normalization](https://scikit-learn.org/stable/modules/preprocessing.html#preprocessing-normalization)\n",
    "* [https://scikit-learn.org/stable/modules/preprocessing.html#scaling-features-to-a-range](https://scikit-learn.org/stable/modules/preprocessing.html#scaling-features-to-a-range)"
   ]
  },
  {
   "cell_type": "markdown",
   "metadata": {},
   "source": [
    "### Split dataset and data normalization\n",
    "\n",
    "\n",
    "**Let's separate the input data and the expected data from the dataset and transform it to numeric variables.**\n",
    "\n",
    "* Type values are boolean, let's transform them to int variables: True=1, False=0\n",
    "\n",
    "Then, split data into:\n",
    "\n",
    "* X: features\n",
    "* y: target (_True_ or _False_ categories)"
   ]
  },
  {
   "cell_type": "code",
   "execution_count": 10,
   "metadata": {},
   "outputs": [
    {
     "data": {
      "text/plain": [
       "array([0, 1, 1, 1, 0, 1, 0, 0, 1, 1, 1, 0, 0, 1, 1, 1, 1, 1, 0, 1, 0, 1,\n",
       "       1, 1, 0, 0, 0, 1, 1, 1, 0, 0, 1, 0, 0, 1, 0, 0, 0, 0, 1, 1, 0, 0,\n",
       "       0, 0, 0, 0, 1, 1, 1, 0, 1, 1, 1, 0, 1, 0, 1, 0, 0, 1, 1, 0, 0, 0,\n",
       "       0, 0, 1, 0, 1, 1, 0, 1, 0, 1, 1, 0, 1, 0, 0, 0, 0, 1, 1, 1, 0, 0,\n",
       "       1, 1, 0, 0, 0, 0, 0, 1, 0, 1, 0, 1, 1, 1, 0, 0, 0, 0, 0, 0, 1, 1,\n",
       "       1, 1, 1, 1, 0, 0, 1, 0, 0, 0, 1, 1, 1, 1, 1, 1, 1, 1, 0, 0, 1, 0,\n",
       "       0, 0, 1, 0, 1, 1, 1, 0, 0, 1, 1, 1, 0, 1, 0, 1, 0, 0, 0, 1, 1, 0,\n",
       "       0, 1, 0, 1, 0, 1, 1, 1, 1, 0, 1, 1, 1, 1, 0, 1, 1, 0, 1, 1, 0, 1,\n",
       "       1, 0, 1, 1, 0, 1, 0, 1, 1, 0, 0, 0, 0, 1, 0, 0, 1, 0, 1, 0, 1, 1,\n",
       "       1, 1, 1, 0, 0, 0, 1, 1, 0, 0, 1, 1, 1, 1, 0, 1, 1, 0, 0, 1, 0, 0,\n",
       "       1, 1, 1, 0, 1, 1, 1, 1, 1, 0, 0, 0, 0, 1, 1, 0, 1, 0, 1, 1, 0, 0,\n",
       "       1, 0, 0, 1, 0, 0, 1, 0, 0, 0, 1, 1, 0, 1, 0, 0, 1, 0, 0, 0, 1, 0,\n",
       "       1, 0, 1, 1, 0, 1, 1, 0, 1, 1, 0, 0, 0, 0, 1, 0, 0, 1, 1, 0, 0, 0,\n",
       "       1, 1, 1, 1, 1, 0, 1, 1, 0, 0, 0, 0, 1, 0, 1, 0, 1, 1, 0, 1, 0, 1,\n",
       "       0, 0, 0, 0, 0, 0, 0, 1, 0, 0, 1, 0, 0, 1, 0, 1, 1, 0, 0, 1, 1, 0,\n",
       "       0, 1, 1, 0, 0, 1, 0, 0, 1, 1, 1, 0, 0, 1, 0, 1, 1, 0, 0, 0, 0, 1,\n",
       "       0, 1, 1, 1, 1, 0, 1, 0, 0, 0, 0, 0, 1, 0, 1, 0, 0, 1, 0, 0, 0, 0,\n",
       "       1, 0, 1, 0, 1, 0, 1, 1, 0, 0, 1, 1, 1, 1, 1, 0, 0, 0, 0, 1, 1, 0,\n",
       "       0, 1, 1, 0, 0, 1, 1, 0, 0, 1, 0, 1, 1, 1, 1, 0, 0, 1, 0, 1, 1, 1,\n",
       "       0, 1, 1, 0, 1, 0, 1, 0, 1, 0, 1, 0, 0, 0, 1, 1, 1, 1, 1, 0, 1, 0,\n",
       "       0, 0, 1, 1, 0, 0, 0, 0, 0, 1, 1, 0, 0, 1, 0, 0, 1, 0, 1, 0, 1, 0,\n",
       "       1, 1, 1, 0, 1, 0, 0, 1, 1, 0, 0, 0, 0, 0, 0, 0, 1, 0, 1, 0, 0, 0,\n",
       "       0, 1, 1, 0, 1, 0, 0, 1, 1, 1, 0, 0, 0, 0, 0, 0, 0, 1, 1, 1, 1, 0,\n",
       "       1, 0, 1, 0, 1, 1, 1, 1, 1, 0, 0, 1, 0, 0, 1, 1, 0, 0, 1, 1, 0, 1,\n",
       "       1, 1, 0, 0, 1, 0, 1, 0, 1, 0, 1, 1, 0, 1, 1, 0, 1, 1, 0, 1, 1, 0,\n",
       "       1, 0, 0, 1, 1, 1, 1, 0, 1, 0, 1, 1, 1, 0, 1, 1, 1, 1, 1, 1, 0, 1,\n",
       "       0, 0, 1, 0, 0, 1, 0, 1, 1, 1, 0, 1, 1, 0, 0, 0, 1, 0, 0, 0, 0, 1,\n",
       "       0, 1, 0, 1, 1, 0, 0, 1, 0, 1, 0, 1, 1, 1, 0, 0, 0, 0, 1, 1, 0, 0,\n",
       "       1, 1, 0, 0, 1, 1, 0, 1, 0, 0, 0, 1, 1, 0, 1, 1, 0, 1, 0, 1, 0, 1,\n",
       "       0, 0, 1, 1, 1, 1, 1, 0, 1, 0, 1, 1, 0, 0, 1, 0, 1, 1, 0, 0, 1, 0,\n",
       "       0, 1, 0, 0, 1, 1, 1, 0, 1, 1, 0, 1, 1, 0, 1, 0, 1, 1, 1, 1, 1, 1,\n",
       "       0, 0, 1, 0, 1, 1, 1, 1, 0, 0, 0, 0, 0, 1, 1, 1, 0, 0, 1, 1, 1, 1,\n",
       "       1, 1, 0, 0, 0, 0, 0, 0, 0, 0, 0, 0, 0, 0, 1, 1, 1, 1, 0, 1, 1, 1,\n",
       "       0, 1, 0, 1, 0, 1, 1, 0, 0, 0, 1, 0, 1, 0, 0, 0, 0, 0, 1, 1, 1, 1,\n",
       "       0, 0, 1, 1, 1, 0, 0, 0, 1, 1, 1, 0, 0, 0, 0, 1, 0, 1, 0, 1, 1, 0,\n",
       "       0, 1, 1, 0, 0, 1, 1, 1, 1, 1, 1, 1, 0, 1, 1, 0, 1, 0, 1, 0, 1, 1,\n",
       "       1, 1, 0, 0, 0, 1, 1, 0, 0, 0, 1, 0, 0, 0, 0, 0, 1, 1, 1, 1, 1, 1,\n",
       "       0, 0, 0, 1, 0, 0, 0, 0, 1, 0, 1, 0, 1, 0, 1, 1, 1, 1, 1, 1, 1, 0,\n",
       "       0, 0, 1, 1, 0, 1, 1, 1, 0, 1, 1, 1, 1, 1, 0, 1, 1, 0, 0, 1, 0, 0,\n",
       "       0, 1, 1, 1, 0, 0, 1, 0, 0, 1, 0, 0, 0, 1, 1, 0, 1, 0, 0, 0, 1, 0,\n",
       "       0, 1, 1, 1, 0, 1, 1, 0, 0, 1, 1, 0, 1, 1, 0, 1, 0, 0, 0, 1, 0, 0,\n",
       "       1, 1, 1, 1, 1, 1, 0, 0, 0, 0, 1, 1, 1, 0, 1, 1, 0, 0, 0, 1, 0, 0,\n",
       "       1, 0, 0, 1, 0, 0, 1, 1, 0, 0, 0, 1, 1, 0, 0, 0, 1, 0, 1, 1, 0, 0,\n",
       "       1, 1, 1, 1, 1, 0, 0, 0, 1, 0, 1, 1, 0, 0, 1, 0, 1, 0, 0, 1, 0, 1,\n",
       "       0, 0, 0])"
      ]
     },
     "execution_count": 10,
     "metadata": {},
     "output_type": "execute_result"
    }
   ],
   "source": [
    "y = df['Type'].astype(int).to_numpy()\n",
    "y"
   ]
  },
  {
   "cell_type": "markdown",
   "metadata": {},
   "source": [
    "The features (X) are the rest of the data.  (the dataset without the Type classes). Let's check that we have split the dataset correctly."
   ]
  },
  {
   "cell_type": "code",
   "execution_count": 11,
   "metadata": {},
   "outputs": [
    {
     "data": {
      "text/plain": [
       "Index(['avg_words_per_sentence', 'avg_word_size', 'n_sentences', 'ttr',\n",
       "       'text_length', 'upper_case', 'upper_case_ratio', 'quotes_count',\n",
       "       'quotes_ratio', 'entities_ratio', 'ratio_ADJ', 'ratio_ADP', 'ratio_ADV',\n",
       "       'ratio_DET', 'ratio_NOUN', 'ratio_PRON', 'ratio_PROPN', 'ratio_PUNCT',\n",
       "       'ratio_SYM', 'ratio_VERB', 'sentiment', 'id',\n",
       "       't_avg_words_per_sentence', 't_avg_word_size', 't_n_sentences', 't_ttr',\n",
       "       't_text_length', 't_upper_case', 't_upper_case_ratio', 't_quotes_count',\n",
       "       't_quotes_ratio', 't_entities_ratio', 't_ratio_ADJ', 't_ratio_ADP',\n",
       "       't_ratio_ADV', 't_ratio_DET', 't_ratio_NOUN', 't_ratio_PRON',\n",
       "       't_ratio_PROPN', 't_ratio_PUNCT', 't_ratio_SYM', 't_ratio_VERB',\n",
       "       't_sentiment'],\n",
       "      dtype='object')"
      ]
     },
     "execution_count": 11,
     "metadata": {},
     "output_type": "execute_result"
    }
   ],
   "source": [
    "features = df.drop(columns=['Type'])\n",
    "features.columns"
   ]
  },
  {
   "cell_type": "code",
   "execution_count": 12,
   "metadata": {},
   "outputs": [
    {
     "data": {
      "text/plain": [
       "(971, 43)"
      ]
     },
     "execution_count": 12,
     "metadata": {},
     "output_type": "execute_result"
    }
   ],
   "source": [
    "features.shape"
   ]
  },
  {
   "cell_type": "code",
   "execution_count": 13,
   "metadata": {},
   "outputs": [
    {
     "data": {
      "text/html": [
       "<div>\n",
       "<style scoped>\n",
       "    .dataframe tbody tr th:only-of-type {\n",
       "        vertical-align: middle;\n",
       "    }\n",
       "\n",
       "    .dataframe tbody tr th {\n",
       "        vertical-align: top;\n",
       "    }\n",
       "\n",
       "    .dataframe thead th {\n",
       "        text-align: right;\n",
       "    }\n",
       "</style>\n",
       "<table border=\"1\" class=\"dataframe\">\n",
       "  <thead>\n",
       "    <tr style=\"text-align: right;\">\n",
       "      <th></th>\n",
       "      <th>avg_words_per_sentence</th>\n",
       "      <th>avg_word_size</th>\n",
       "      <th>n_sentences</th>\n",
       "      <th>ttr</th>\n",
       "      <th>text_length</th>\n",
       "      <th>upper_case</th>\n",
       "      <th>upper_case_ratio</th>\n",
       "      <th>quotes_count</th>\n",
       "      <th>quotes_ratio</th>\n",
       "      <th>entities_ratio</th>\n",
       "      <th>ratio_ADJ</th>\n",
       "      <th>ratio_ADP</th>\n",
       "      <th>ratio_ADV</th>\n",
       "      <th>ratio_DET</th>\n",
       "      <th>ratio_NOUN</th>\n",
       "      <th>ratio_PRON</th>\n",
       "      <th>ratio_PROPN</th>\n",
       "      <th>ratio_PUNCT</th>\n",
       "      <th>ratio_SYM</th>\n",
       "      <th>ratio_VERB</th>\n",
       "      <th>sentiment</th>\n",
       "      <th>id</th>\n",
       "      <th>t_avg_words_per_sentence</th>\n",
       "      <th>t_avg_word_size</th>\n",
       "      <th>t_n_sentences</th>\n",
       "      <th>t_ttr</th>\n",
       "      <th>t_text_length</th>\n",
       "      <th>t_upper_case</th>\n",
       "      <th>t_upper_case_ratio</th>\n",
       "      <th>t_quotes_count</th>\n",
       "      <th>t_quotes_ratio</th>\n",
       "      <th>t_entities_ratio</th>\n",
       "      <th>t_ratio_ADJ</th>\n",
       "      <th>t_ratio_ADP</th>\n",
       "      <th>t_ratio_ADV</th>\n",
       "      <th>t_ratio_DET</th>\n",
       "      <th>t_ratio_NOUN</th>\n",
       "      <th>t_ratio_PRON</th>\n",
       "      <th>t_ratio_PROPN</th>\n",
       "      <th>t_ratio_PUNCT</th>\n",
       "      <th>t_ratio_SYM</th>\n",
       "      <th>t_ratio_VERB</th>\n",
       "      <th>t_sentiment</th>\n",
       "    </tr>\n",
       "  </thead>\n",
       "  <tbody>\n",
       "    <tr>\n",
       "      <th>count</th>\n",
       "      <td>971.000000</td>\n",
       "      <td>971.000000</td>\n",
       "      <td>971.000000</td>\n",
       "      <td>971.000000</td>\n",
       "      <td>971.000000</td>\n",
       "      <td>971.000000</td>\n",
       "      <td>971.000000</td>\n",
       "      <td>971.000000</td>\n",
       "      <td>971.000000</td>\n",
       "      <td>971.000000</td>\n",
       "      <td>971.000000</td>\n",
       "      <td>971.000000</td>\n",
       "      <td>971.000000</td>\n",
       "      <td>971.000000</td>\n",
       "      <td>971.000000</td>\n",
       "      <td>971.000000</td>\n",
       "      <td>971.000000</td>\n",
       "      <td>971.000000</td>\n",
       "      <td>971.000000</td>\n",
       "      <td>971.000000</td>\n",
       "      <td>971.000000</td>\n",
       "      <td>971.000000</td>\n",
       "      <td>971.000000</td>\n",
       "      <td>971.000000</td>\n",
       "      <td>971.000000</td>\n",
       "      <td>971.000000</td>\n",
       "      <td>971.000000</td>\n",
       "      <td>971.000000</td>\n",
       "      <td>971.000000</td>\n",
       "      <td>971.000000</td>\n",
       "      <td>971.000000</td>\n",
       "      <td>971.000000</td>\n",
       "      <td>971.000000</td>\n",
       "      <td>971.000000</td>\n",
       "      <td>971.000000</td>\n",
       "      <td>971.000000</td>\n",
       "      <td>971.000000</td>\n",
       "      <td>971.000000</td>\n",
       "      <td>971.000000</td>\n",
       "      <td>971.000000</td>\n",
       "      <td>971.000000</td>\n",
       "      <td>971.000000</td>\n",
       "      <td>971.000000</td>\n",
       "    </tr>\n",
       "    <tr>\n",
       "      <th>mean</th>\n",
       "      <td>38.025655</td>\n",
       "      <td>4.471700</td>\n",
       "      <td>13.058702</td>\n",
       "      <td>0.858110</td>\n",
       "      <td>2354.879506</td>\n",
       "      <td>97.870237</td>\n",
       "      <td>0.041677</td>\n",
       "      <td>3.670443</td>\n",
       "      <td>0.001590</td>\n",
       "      <td>0.008869</td>\n",
       "      <td>0.010790</td>\n",
       "      <td>0.029025</td>\n",
       "      <td>0.006582</td>\n",
       "      <td>0.024084</td>\n",
       "      <td>0.032248</td>\n",
       "      <td>0.009133</td>\n",
       "      <td>0.019974</td>\n",
       "      <td>0.020673</td>\n",
       "      <td>0.000769</td>\n",
       "      <td>0.016825</td>\n",
       "      <td>0.028323</td>\n",
       "      <td>280.624099</td>\n",
       "      <td>12.000172</td>\n",
       "      <td>4.894989</td>\n",
       "      <td>1.018538</td>\n",
       "      <td>0.970578</td>\n",
       "      <td>67.680742</td>\n",
       "      <td>10.436663</td>\n",
       "      <td>0.144050</td>\n",
       "      <td>0.144181</td>\n",
       "      <td>0.001966</td>\n",
       "      <td>0.019677</td>\n",
       "      <td>0.009291</td>\n",
       "      <td>0.031566</td>\n",
       "      <td>0.003712</td>\n",
       "      <td>0.018852</td>\n",
       "      <td>0.030975</td>\n",
       "      <td>0.004337</td>\n",
       "      <td>0.041189</td>\n",
       "      <td>0.011799</td>\n",
       "      <td>0.002426</td>\n",
       "      <td>0.018525</td>\n",
       "      <td>-0.096635</td>\n",
       "    </tr>\n",
       "    <tr>\n",
       "      <th>std</th>\n",
       "      <td>17.751023</td>\n",
       "      <td>0.284818</td>\n",
       "      <td>11.557728</td>\n",
       "      <td>0.047932</td>\n",
       "      <td>1722.629215</td>\n",
       "      <td>88.399886</td>\n",
       "      <td>0.020603</td>\n",
       "      <td>4.207081</td>\n",
       "      <td>0.001391</td>\n",
       "      <td>0.004810</td>\n",
       "      <td>0.003188</td>\n",
       "      <td>0.004398</td>\n",
       "      <td>0.003004</td>\n",
       "      <td>0.003863</td>\n",
       "      <td>0.004895</td>\n",
       "      <td>0.003990</td>\n",
       "      <td>0.008919</td>\n",
       "      <td>0.005600</td>\n",
       "      <td>0.001407</td>\n",
       "      <td>0.004465</td>\n",
       "      <td>0.211539</td>\n",
       "      <td>190.861875</td>\n",
       "      <td>3.941849</td>\n",
       "      <td>1.359834</td>\n",
       "      <td>0.142389</td>\n",
       "      <td>0.048256</td>\n",
       "      <td>19.745834</td>\n",
       "      <td>18.871810</td>\n",
       "      <td>0.224764</td>\n",
       "      <td>0.365827</td>\n",
       "      <td>0.005134</td>\n",
       "      <td>0.016341</td>\n",
       "      <td>0.011726</td>\n",
       "      <td>0.014613</td>\n",
       "      <td>0.007734</td>\n",
       "      <td>0.014987</td>\n",
       "      <td>0.017509</td>\n",
       "      <td>0.008171</td>\n",
       "      <td>0.024088</td>\n",
       "      <td>0.016946</td>\n",
       "      <td>0.008962</td>\n",
       "      <td>0.012641</td>\n",
       "      <td>0.639606</td>\n",
       "    </tr>\n",
       "    <tr>\n",
       "      <th>min</th>\n",
       "      <td>11.944444</td>\n",
       "      <td>3.492068</td>\n",
       "      <td>1.000000</td>\n",
       "      <td>0.489311</td>\n",
       "      <td>124.000000</td>\n",
       "      <td>5.000000</td>\n",
       "      <td>0.005102</td>\n",
       "      <td>0.000000</td>\n",
       "      <td>0.000000</td>\n",
       "      <td>0.000000</td>\n",
       "      <td>0.000000</td>\n",
       "      <td>0.008475</td>\n",
       "      <td>0.000000</td>\n",
       "      <td>0.009479</td>\n",
       "      <td>0.014205</td>\n",
       "      <td>0.000920</td>\n",
       "      <td>0.000729</td>\n",
       "      <td>0.006173</td>\n",
       "      <td>0.000000</td>\n",
       "      <td>0.004742</td>\n",
       "      <td>-1.279070</td>\n",
       "      <td>1.000000</td>\n",
       "      <td>1.000000</td>\n",
       "      <td>3.100000</td>\n",
       "      <td>1.000000</td>\n",
       "      <td>0.722222</td>\n",
       "      <td>17.000000</td>\n",
       "      <td>0.000000</td>\n",
       "      <td>0.000000</td>\n",
       "      <td>0.000000</td>\n",
       "      <td>0.000000</td>\n",
       "      <td>0.000000</td>\n",
       "      <td>0.000000</td>\n",
       "      <td>0.000000</td>\n",
       "      <td>0.000000</td>\n",
       "      <td>0.000000</td>\n",
       "      <td>0.000000</td>\n",
       "      <td>0.000000</td>\n",
       "      <td>0.000000</td>\n",
       "      <td>0.000000</td>\n",
       "      <td>0.000000</td>\n",
       "      <td>0.000000</td>\n",
       "      <td>-2.500000</td>\n",
       "    </tr>\n",
       "    <tr>\n",
       "      <th>25%</th>\n",
       "      <td>28.632997</td>\n",
       "      <td>4.291633</td>\n",
       "      <td>7.000000</td>\n",
       "      <td>0.826936</td>\n",
       "      <td>1354.500000</td>\n",
       "      <td>44.000000</td>\n",
       "      <td>0.027415</td>\n",
       "      <td>1.000000</td>\n",
       "      <td>0.000586</td>\n",
       "      <td>0.005382</td>\n",
       "      <td>0.008763</td>\n",
       "      <td>0.026047</td>\n",
       "      <td>0.004405</td>\n",
       "      <td>0.021646</td>\n",
       "      <td>0.028936</td>\n",
       "      <td>0.006320</td>\n",
       "      <td>0.013604</td>\n",
       "      <td>0.016808</td>\n",
       "      <td>0.000000</td>\n",
       "      <td>0.013649</td>\n",
       "      <td>-0.105542</td>\n",
       "      <td>122.000000</td>\n",
       "      <td>9.000000</td>\n",
       "      <td>4.307692</td>\n",
       "      <td>1.000000</td>\n",
       "      <td>0.937500</td>\n",
       "      <td>54.000000</td>\n",
       "      <td>3.000000</td>\n",
       "      <td>0.041096</td>\n",
       "      <td>0.000000</td>\n",
       "      <td>0.000000</td>\n",
       "      <td>0.000000</td>\n",
       "      <td>0.000000</td>\n",
       "      <td>0.021739</td>\n",
       "      <td>0.000000</td>\n",
       "      <td>0.000000</td>\n",
       "      <td>0.018519</td>\n",
       "      <td>0.000000</td>\n",
       "      <td>0.024100</td>\n",
       "      <td>0.000000</td>\n",
       "      <td>0.000000</td>\n",
       "      <td>0.011976</td>\n",
       "      <td>-0.555556</td>\n",
       "    </tr>\n",
       "    <tr>\n",
       "      <th>50%</th>\n",
       "      <td>35.869565</td>\n",
       "      <td>4.480323</td>\n",
       "      <td>10.000000</td>\n",
       "      <td>0.860806</td>\n",
       "      <td>1896.000000</td>\n",
       "      <td>73.000000</td>\n",
       "      <td>0.037480</td>\n",
       "      <td>2.000000</td>\n",
       "      <td>0.001382</td>\n",
       "      <td>0.008248</td>\n",
       "      <td>0.010650</td>\n",
       "      <td>0.028910</td>\n",
       "      <td>0.006350</td>\n",
       "      <td>0.023973</td>\n",
       "      <td>0.032284</td>\n",
       "      <td>0.008879</td>\n",
       "      <td>0.018478</td>\n",
       "      <td>0.020050</td>\n",
       "      <td>0.000290</td>\n",
       "      <td>0.016600</td>\n",
       "      <td>0.036765</td>\n",
       "      <td>243.000000</td>\n",
       "      <td>12.000000</td>\n",
       "      <td>4.791667</td>\n",
       "      <td>1.000000</td>\n",
       "      <td>1.000000</td>\n",
       "      <td>67.000000</td>\n",
       "      <td>4.000000</td>\n",
       "      <td>0.067797</td>\n",
       "      <td>0.000000</td>\n",
       "      <td>0.000000</td>\n",
       "      <td>0.017391</td>\n",
       "      <td>0.000000</td>\n",
       "      <td>0.030928</td>\n",
       "      <td>0.000000</td>\n",
       "      <td>0.017544</td>\n",
       "      <td>0.029851</td>\n",
       "      <td>0.000000</td>\n",
       "      <td>0.039216</td>\n",
       "      <td>0.000000</td>\n",
       "      <td>0.000000</td>\n",
       "      <td>0.017241</td>\n",
       "      <td>0.000000</td>\n",
       "    </tr>\n",
       "    <tr>\n",
       "      <th>75%</th>\n",
       "      <td>43.679487</td>\n",
       "      <td>4.652157</td>\n",
       "      <td>15.000000</td>\n",
       "      <td>0.893743</td>\n",
       "      <td>2816.500000</td>\n",
       "      <td>121.000000</td>\n",
       "      <td>0.051287</td>\n",
       "      <td>5.000000</td>\n",
       "      <td>0.002302</td>\n",
       "      <td>0.011533</td>\n",
       "      <td>0.012567</td>\n",
       "      <td>0.031949</td>\n",
       "      <td>0.008429</td>\n",
       "      <td>0.026691</td>\n",
       "      <td>0.035481</td>\n",
       "      <td>0.011330</td>\n",
       "      <td>0.024601</td>\n",
       "      <td>0.024096</td>\n",
       "      <td>0.001019</td>\n",
       "      <td>0.019724</td>\n",
       "      <td>0.159809</td>\n",
       "      <td>433.500000</td>\n",
       "      <td>14.000000</td>\n",
       "      <td>5.300000</td>\n",
       "      <td>1.000000</td>\n",
       "      <td>1.000000</td>\n",
       "      <td>79.000000</td>\n",
       "      <td>7.000000</td>\n",
       "      <td>0.111111</td>\n",
       "      <td>0.000000</td>\n",
       "      <td>0.000000</td>\n",
       "      <td>0.030303</td>\n",
       "      <td>0.015873</td>\n",
       "      <td>0.041667</td>\n",
       "      <td>0.000000</td>\n",
       "      <td>0.028571</td>\n",
       "      <td>0.042254</td>\n",
       "      <td>0.008511</td>\n",
       "      <td>0.056604</td>\n",
       "      <td>0.020000</td>\n",
       "      <td>0.000000</td>\n",
       "      <td>0.025641</td>\n",
       "      <td>0.000000</td>\n",
       "    </tr>\n",
       "    <tr>\n",
       "      <th>max</th>\n",
       "      <td>421.000000</td>\n",
       "      <td>5.470588</td>\n",
       "      <td>104.000000</td>\n",
       "      <td>0.985450</td>\n",
       "      <td>15344.000000</td>\n",
       "      <td>882.000000</td>\n",
       "      <td>0.206358</td>\n",
       "      <td>36.000000</td>\n",
       "      <td>0.008535</td>\n",
       "      <td>0.031120</td>\n",
       "      <td>0.025157</td>\n",
       "      <td>0.045946</td>\n",
       "      <td>0.019462</td>\n",
       "      <td>0.038007</td>\n",
       "      <td>0.047761</td>\n",
       "      <td>0.027864</td>\n",
       "      <td>0.062339</td>\n",
       "      <td>0.044458</td>\n",
       "      <td>0.016376</td>\n",
       "      <td>0.032670</td>\n",
       "      <td>0.714286</td>\n",
       "      <td>676.000000</td>\n",
       "      <td>29.000000</td>\n",
       "      <td>40.000000</td>\n",
       "      <td>3.000000</td>\n",
       "      <td>1.000000</td>\n",
       "      <td>151.000000</td>\n",
       "      <td>103.000000</td>\n",
       "      <td>0.900000</td>\n",
       "      <td>2.000000</td>\n",
       "      <td>0.034483</td>\n",
       "      <td>0.105263</td>\n",
       "      <td>0.095238</td>\n",
       "      <td>0.085714</td>\n",
       "      <td>0.049180</td>\n",
       "      <td>0.083333</td>\n",
       "      <td>0.120000</td>\n",
       "      <td>0.042553</td>\n",
       "      <td>0.128571</td>\n",
       "      <td>0.095238</td>\n",
       "      <td>0.078947</td>\n",
       "      <td>0.100000</td>\n",
       "      <td>2.500000</td>\n",
       "    </tr>\n",
       "  </tbody>\n",
       "</table>\n",
       "</div>"
      ],
      "text/plain": [
       "       avg_words_per_sentence  avg_word_size  n_sentences         ttr  \\\n",
       "count              971.000000     971.000000   971.000000  971.000000   \n",
       "mean                38.025655       4.471700    13.058702    0.858110   \n",
       "std                 17.751023       0.284818    11.557728    0.047932   \n",
       "min                 11.944444       3.492068     1.000000    0.489311   \n",
       "25%                 28.632997       4.291633     7.000000    0.826936   \n",
       "50%                 35.869565       4.480323    10.000000    0.860806   \n",
       "75%                 43.679487       4.652157    15.000000    0.893743   \n",
       "max                421.000000       5.470588   104.000000    0.985450   \n",
       "\n",
       "        text_length  upper_case  upper_case_ratio  quotes_count  quotes_ratio  \\\n",
       "count    971.000000  971.000000        971.000000    971.000000    971.000000   \n",
       "mean    2354.879506   97.870237          0.041677      3.670443      0.001590   \n",
       "std     1722.629215   88.399886          0.020603      4.207081      0.001391   \n",
       "min      124.000000    5.000000          0.005102      0.000000      0.000000   \n",
       "25%     1354.500000   44.000000          0.027415      1.000000      0.000586   \n",
       "50%     1896.000000   73.000000          0.037480      2.000000      0.001382   \n",
       "75%     2816.500000  121.000000          0.051287      5.000000      0.002302   \n",
       "max    15344.000000  882.000000          0.206358     36.000000      0.008535   \n",
       "\n",
       "       entities_ratio   ratio_ADJ   ratio_ADP   ratio_ADV   ratio_DET  \\\n",
       "count      971.000000  971.000000  971.000000  971.000000  971.000000   \n",
       "mean         0.008869    0.010790    0.029025    0.006582    0.024084   \n",
       "std          0.004810    0.003188    0.004398    0.003004    0.003863   \n",
       "min          0.000000    0.000000    0.008475    0.000000    0.009479   \n",
       "25%          0.005382    0.008763    0.026047    0.004405    0.021646   \n",
       "50%          0.008248    0.010650    0.028910    0.006350    0.023973   \n",
       "75%          0.011533    0.012567    0.031949    0.008429    0.026691   \n",
       "max          0.031120    0.025157    0.045946    0.019462    0.038007   \n",
       "\n",
       "       ratio_NOUN  ratio_PRON  ratio_PROPN  ratio_PUNCT   ratio_SYM  \\\n",
       "count  971.000000  971.000000   971.000000   971.000000  971.000000   \n",
       "mean     0.032248    0.009133     0.019974     0.020673    0.000769   \n",
       "std      0.004895    0.003990     0.008919     0.005600    0.001407   \n",
       "min      0.014205    0.000920     0.000729     0.006173    0.000000   \n",
       "25%      0.028936    0.006320     0.013604     0.016808    0.000000   \n",
       "50%      0.032284    0.008879     0.018478     0.020050    0.000290   \n",
       "75%      0.035481    0.011330     0.024601     0.024096    0.001019   \n",
       "max      0.047761    0.027864     0.062339     0.044458    0.016376   \n",
       "\n",
       "       ratio_VERB   sentiment          id  t_avg_words_per_sentence  \\\n",
       "count  971.000000  971.000000  971.000000                971.000000   \n",
       "mean     0.016825    0.028323  280.624099                 12.000172   \n",
       "std      0.004465    0.211539  190.861875                  3.941849   \n",
       "min      0.004742   -1.279070    1.000000                  1.000000   \n",
       "25%      0.013649   -0.105542  122.000000                  9.000000   \n",
       "50%      0.016600    0.036765  243.000000                 12.000000   \n",
       "75%      0.019724    0.159809  433.500000                 14.000000   \n",
       "max      0.032670    0.714286  676.000000                 29.000000   \n",
       "\n",
       "       t_avg_word_size  t_n_sentences       t_ttr  t_text_length  \\\n",
       "count       971.000000     971.000000  971.000000     971.000000   \n",
       "mean          4.894989       1.018538    0.970578      67.680742   \n",
       "std           1.359834       0.142389    0.048256      19.745834   \n",
       "min           3.100000       1.000000    0.722222      17.000000   \n",
       "25%           4.307692       1.000000    0.937500      54.000000   \n",
       "50%           4.791667       1.000000    1.000000      67.000000   \n",
       "75%           5.300000       1.000000    1.000000      79.000000   \n",
       "max          40.000000       3.000000    1.000000     151.000000   \n",
       "\n",
       "       t_upper_case  t_upper_case_ratio  t_quotes_count  t_quotes_ratio  \\\n",
       "count    971.000000          971.000000      971.000000      971.000000   \n",
       "mean      10.436663            0.144050        0.144181        0.001966   \n",
       "std       18.871810            0.224764        0.365827        0.005134   \n",
       "min        0.000000            0.000000        0.000000        0.000000   \n",
       "25%        3.000000            0.041096        0.000000        0.000000   \n",
       "50%        4.000000            0.067797        0.000000        0.000000   \n",
       "75%        7.000000            0.111111        0.000000        0.000000   \n",
       "max      103.000000            0.900000        2.000000        0.034483   \n",
       "\n",
       "       t_entities_ratio  t_ratio_ADJ  t_ratio_ADP  t_ratio_ADV  t_ratio_DET  \\\n",
       "count        971.000000   971.000000   971.000000   971.000000   971.000000   \n",
       "mean           0.019677     0.009291     0.031566     0.003712     0.018852   \n",
       "std            0.016341     0.011726     0.014613     0.007734     0.014987   \n",
       "min            0.000000     0.000000     0.000000     0.000000     0.000000   \n",
       "25%            0.000000     0.000000     0.021739     0.000000     0.000000   \n",
       "50%            0.017391     0.000000     0.030928     0.000000     0.017544   \n",
       "75%            0.030303     0.015873     0.041667     0.000000     0.028571   \n",
       "max            0.105263     0.095238     0.085714     0.049180     0.083333   \n",
       "\n",
       "       t_ratio_NOUN  t_ratio_PRON  t_ratio_PROPN  t_ratio_PUNCT  t_ratio_SYM  \\\n",
       "count    971.000000    971.000000     971.000000     971.000000   971.000000   \n",
       "mean       0.030975      0.004337       0.041189       0.011799     0.002426   \n",
       "std        0.017509      0.008171       0.024088       0.016946     0.008962   \n",
       "min        0.000000      0.000000       0.000000       0.000000     0.000000   \n",
       "25%        0.018519      0.000000       0.024100       0.000000     0.000000   \n",
       "50%        0.029851      0.000000       0.039216       0.000000     0.000000   \n",
       "75%        0.042254      0.008511       0.056604       0.020000     0.000000   \n",
       "max        0.120000      0.042553       0.128571       0.095238     0.078947   \n",
       "\n",
       "       t_ratio_VERB  t_sentiment  \n",
       "count    971.000000   971.000000  \n",
       "mean       0.018525    -0.096635  \n",
       "std        0.012641     0.639606  \n",
       "min        0.000000    -2.500000  \n",
       "25%        0.011976    -0.555556  \n",
       "50%        0.017241     0.000000  \n",
       "75%        0.025641     0.000000  \n",
       "max        0.100000     2.500000  "
      ]
     },
     "execution_count": 13,
     "metadata": {},
     "output_type": "execute_result"
    }
   ],
   "source": [
    "features.describe()"
   ]
  },
  {
   "cell_type": "markdown",
   "metadata": {},
   "source": [
    "### Data normalization\n",
    "\n",
    "\n",
    "**In this dataset we have 43 features with a different range of numerical values and noticeable differences between the min and max values in some cases.**\n",
    "\n",
    "Variables that are measured at different scales do not contribute equally to the model fitting and model learned function and might end up creating a bias. For this reason, we will proceed to scale and normalize this data prior to fitting it to a model. \n",
    "\n",
    "In our case we will scale each feature to a given range (between 0 and 1) using the Min-Max scaler, that applies the following function to each feature value:\n",
    " \n",
    " $$ x_{new} = \\frac{x_{old} - x_{min}}{x_{max} - x_{min}} \\in [0, 1] $$\n",
    "\n",
    "This estimator scales and translates each feature individually such that it is in the given range on the training set, that is between zero and one."
   ]
  },
  {
   "cell_type": "code",
   "execution_count": 14,
   "metadata": {},
   "outputs": [],
   "source": [
    "from sklearn.preprocessing import MinMaxScaler\n",
    "\n",
    "features = df.drop(columns=['Type'])\n",
    "\n",
    "x_pre = features.values #returns a numpy array\n",
    "x_scaled = MinMaxScaler().fit_transform(x_pre)\n",
    "X = pd.DataFrame(x_scaled)"
   ]
  },
  {
   "cell_type": "markdown",
   "metadata": {},
   "source": [
    "### Split data into training set and test set\n",
    "\n",
    "We will initially split the data into:\n",
    "\n",
    "* Training data: 80%\n",
    "* Test data: 20%"
   ]
  },
  {
   "cell_type": "code",
   "execution_count": 15,
   "metadata": {},
   "outputs": [
    {
     "name": "stdout",
     "output_type": "stream",
     "text": [
      "Train set: (776, 43)\n",
      "Test set: (195, 43)\n"
     ]
    }
   ],
   "source": [
    "from sklearn.model_selection import train_test_split\n",
    "\n",
    "X_train, X_test, y_train, y_test = train_test_split(X, y, test_size=0.20, random_state=0)\n",
    "\n",
    "print('Train set:', X_train.shape)\n",
    "print('Test set:', X_test.shape)"
   ]
  },
  {
   "cell_type": "markdown",
   "metadata": {},
   "source": [
    "<a name='chapter2'></a>\n",
    "\n",
    "# 2. Classifier Exploration\n",
    "\n",
    "<a name='section_2_1'></a>\n",
    "## 2. 1. Choosing the right estimator\n",
    "\n",
    "We want to **predict a category**, Type, which can be True (1) or False (0), and we have labelled data (supervised learning). Therefore, we have a classification problem.\n",
    "\n",
    "In the following steps, we will use and **compare 3 machine learning classifiers** in order to see how they perform with the given data (971 examples, with 43 features and 1 output binary category)\n",
    "\n",
    "Resources:\n",
    "\n",
    "* [https://scikit-learn.org/stable/tutorial/machine_learning_map/index.html](https://scikit-learn.org/stable/tutorial/machine_learning_map/index.html)\n",
    "* [https://www.edureka.co/blog/machine-learning-algorithms/](https://www.edureka.co/blog/machine-learning-algorithms/)\n",
    "* [https://www.edureka.co/blog/classification-in-machine-learning/](https://www.edureka.co/blog/classification-in-machine-learning/)"
   ]
  },
  {
   "cell_type": "markdown",
   "metadata": {},
   "source": [
    "### Useful functions"
   ]
  },
  {
   "cell_type": "code",
   "execution_count": 16,
   "metadata": {},
   "outputs": [],
   "source": [
    "from sklearn import metrics\n",
    "\n",
    "\n",
    "def get_metrics(clf, X_test, y_test, y_pred):\n",
    "    \"\"\" Computes and returns model metrics \n",
    "    \"\"\"\n",
    "    accuracy = clf.score(X_test, y_test)\n",
    "    precision = metrics.precision_score(y_test, y_pred)\n",
    "    recall = metrics.recall_score(y_test, y_pred)\n",
    "    f1_score = metrics.f1_score(y_test, y_pred)\n",
    "    \n",
    "    return [accuracy, precision, recall, f1_score]\n",
    "\n",
    "\n",
    "def print_metrics(clf, X_test, y_test, y_pred):\n",
    "    \"\"\" Shows the model metrics\n",
    "    \"\"\"    \n",
    "    print(\"Accuracy %f\\n\" % clf.score(X_test, y_test))\n",
    "    print(metrics.confusion_matrix(y_test, y_pred))\n",
    "    print(metrics.classification_report(y_test, y_pred))\n",
    "    \n",
    "\n",
    "def distribution_plot(y_test, y_pred):\n",
    "    \"\"\" Distribution plot of the predicted and target values\n",
    "    \"\"\"\n",
    "    axl = sns.distplot(y_test, hist=False, color=\"r\", label=\"Actual Value\")\n",
    "    sns.distplot(y_pred, hist=False, color=\"b\", label=\"Fitted Value\", ax=axl)"
   ]
  },
  {
   "cell_type": "markdown",
   "metadata": {},
   "source": [
    "### Selecting hyperparameters\n",
    "\n",
    "Each of the models has several to tune. We will use a grid search to scan through multiple parameters and choose the ones that fit better the training data.\n",
    "\n",
    "More info:\n",
    "\n",
    "Tuning the hperparameters of an estimator: https://scikit-learn.org/stable/modules/grid_search.html\n",
    "\n",
    "Grid search: Exhaustive search over specified parameter values for an estimator. https://scikit-learn.org/stable/modules/generated/sklearn.model_selection.GridSearchCV.html\n",
    "\n",
    "For selecting hyperparameters, we should be using train/validation/test splits. However, as GridSearchCV uses cross-validation, this won't be necessary."
   ]
  },
  {
   "cell_type": "code",
   "execution_count": 17,
   "metadata": {},
   "outputs": [],
   "source": [
    "from sklearn.pipeline import Pipeline\n",
    "from time import time\n",
    "from sklearn.model_selection import GridSearchCV\n",
    "\n",
    "\n",
    "def select_hyperparameters(pipeline, parameters):\n",
    "    # find the best parameters for both the feature extraction and the\n",
    "    # classifier\n",
    "    grid_search = GridSearchCV(pipeline, parameters, cv=5, n_jobs=-1, verbose=1)\n",
    "\n",
    "    print(\"Performing grid search...\")\n",
    "    #print(\"pipeline:\", [name for name, _ in pipeline.steps])\n",
    "    print(\"parameters:\")\n",
    "    print(parameters)\n",
    "    t0 = time()\n",
    "    grid_search.fit(X_train, y_train)\n",
    "    print(\"done in %0.3fs\" % (time() - t0))\n",
    "    print()\n",
    "\n",
    "    print(\"Best score: %0.3f\" % grid_search.best_score_)\n",
    "    print(\"Best parameters set:\")\n",
    "    best_parameters = grid_search.best_estimator_.get_params()\n",
    "    for param_name in sorted(parameters.keys()):\n",
    "        print(\"\\t%s: %r\" % (param_name, best_parameters[param_name]))   "
   ]
  },
  {
   "cell_type": "markdown",
   "metadata": {},
   "source": [
    "<a name='section_2_2'></a>\n",
    "\n",
    "## 2.2. Classifiers\n",
    "\n",
    "<a name='section_2_2_1'></a>\n",
    "### 2.2.1. Support Vector Machines (SVM)\n",
    "\n",
    "We want to predict a category with labelled data (supervised learning). As a classification problem with less 100K samples, we will start using Support Vector Machines (SVM). \n",
    "\n",
    "### Model 1.1: SVM with linear decision boundary\n",
    "\n",
    "Let's start using Support Vector Machines (SVM) with linear decision boundary (linear kernel).\n",
    "\n",
    "Resource: https://stackabuse.com/implementing-svm-and-kernel-svm-with-pythons-scikit-learn/\n",
    "\n",
    "First, let's tune the classifier's parameters:"
   ]
  },
  {
   "cell_type": "code",
   "execution_count": 18,
   "metadata": {},
   "outputs": [
    {
     "name": "stdout",
     "output_type": "stream",
     "text": [
      "Performing grid search...\n",
      "parameters:\n",
      "{'clf__C': [1, 10], 'clf__kernel': ('linear', 'poly', 'rbf', 'sigmoid')}\n",
      "Fitting 5 folds for each of 8 candidates, totalling 40 fits\n"
     ]
    },
    {
     "name": "stderr",
     "output_type": "stream",
     "text": [
      "[Parallel(n_jobs=-1)]: Using backend LokyBackend with 4 concurrent workers.\n"
     ]
    },
    {
     "name": "stdout",
     "output_type": "stream",
     "text": [
      "done in 3.822s\n",
      "\n",
      "Best score: 0.799\n",
      "Best parameters set:\n",
      "\tclf__C: 10\n",
      "\tclf__kernel: 'linear'\n"
     ]
    },
    {
     "name": "stderr",
     "output_type": "stream",
     "text": [
      "[Parallel(n_jobs=-1)]: Done  40 out of  40 | elapsed:    3.7s finished\n"
     ]
    }
   ],
   "source": [
    "from sklearn.svm import SVC\n",
    "\n",
    "# Select hyperamaters\n",
    "pipeline = Pipeline([\n",
    "    ('clf', SVC()),\n",
    "])\n",
    "\n",
    "# C: Regularization parameter. The strength of the regularization is inversely proportional to C\n",
    "# max_iter: Hard limit on iterations within solver, or -1 for no limit.\n",
    "parameters = {'clf__C': [1, 10],\n",
    "              'clf__kernel': ('linear', 'poly', 'rbf', 'sigmoid'),\n",
    "             }\n",
    "\n",
    "select_hyperparameters(pipeline, parameters)"
   ]
  },
  {
   "cell_type": "markdown",
   "metadata": {},
   "source": [
    "After the scan, let's fit the model with the training set and the best parameters set found by the grid search:"
   ]
  },
  {
   "cell_type": "code",
   "execution_count": 19,
   "metadata": {},
   "outputs": [
    {
     "data": {
      "text/plain": [
       "SVC(C=10, cache_size=200, class_weight=None, coef0=0.0,\n",
       "    decision_function_shape='ovr', degree=3, gamma='auto_deprecated',\n",
       "    kernel='linear', max_iter=-1, probability=False, random_state=None,\n",
       "    shrinking=True, tol=0.001, verbose=False)"
      ]
     },
     "execution_count": 19,
     "metadata": {},
     "output_type": "execute_result"
    }
   ],
   "source": [
    "from sklearn.svm import SVC\n",
    "svm_clf = SVC(kernel='linear', C=10)\n",
    "svm_clf.fit(X_train, y_train)"
   ]
  },
  {
   "cell_type": "markdown",
   "metadata": {},
   "source": [
    "Finally, let's predict values against the test set (X_test):"
   ]
  },
  {
   "cell_type": "code",
   "execution_count": 20,
   "metadata": {},
   "outputs": [
    {
     "data": {
      "text/plain": [
       "array([1, 0, 1, 0, 1, 0, 0, 0, 0, 1, 0, 0, 0, 1, 1, 0, 1, 0, 1, 1, 1, 0,\n",
       "       0, 0, 1, 0, 0, 1, 1, 0, 1, 1, 0, 0, 0, 1, 0, 1, 1, 1, 1, 1, 1, 1,\n",
       "       0, 0, 0, 0, 1, 1, 1, 0, 1, 0, 0, 1, 0, 1, 1, 0, 1, 1, 1, 0, 1, 1,\n",
       "       1, 1, 1, 0, 0, 0, 1, 0, 1, 1, 1, 1, 1, 0, 1, 0, 1, 1, 1, 0, 0, 0,\n",
       "       1, 0, 0, 0, 0, 1, 1, 1, 1, 1, 0, 1, 0, 1, 0, 1, 1, 1, 1, 1, 0, 1,\n",
       "       0, 0, 0, 0, 0, 1, 0, 0, 1, 0, 1, 0, 0, 1, 0, 0, 0, 1, 0, 1, 1, 1,\n",
       "       0, 1, 1, 1, 1, 0, 1, 0, 0, 0, 1, 1, 1, 0, 0, 0, 1, 1, 1, 0, 1, 0,\n",
       "       1, 0, 1, 0, 0, 1, 0, 0, 1, 0, 0, 0, 0, 1, 0, 1, 0, 0, 1, 0, 0, 1,\n",
       "       1, 1, 0, 1, 0, 1, 1, 1, 1, 1, 0, 1, 1, 0, 0, 0, 0, 0, 1])"
      ]
     },
     "execution_count": 20,
     "metadata": {},
     "output_type": "execute_result"
    }
   ],
   "source": [
    "svm_y_pred = svm_clf.predict(X_test)\n",
    "svm_y_pred"
   ]
  },
  {
   "cell_type": "markdown",
   "metadata": {},
   "source": [
    "### Metrics\n",
    "\n",
    "Now that we have some results and we have the predictions, let's have a look at some interesting metrics.\n",
    "\n",
    "To understand the results of each model and decide which of them will be a good option for our purposes, we will take into account the **Confusion Matrix** or error matrix, that allows a visualization of the performance of an algorithm so **the columns represent the actual class** and **the rows the predicted class**.\n",
    "\n",
    "|       | True | False |\n",
    "|:-----:|:----:|:-----:|\n",
    "|  **True** |  True Positives (TP)  |   False Positives (FP)  |\n",
    "| **False** |  False Negatives (FN)  |   True Negatives (TN)  |\n",
    "\n",
    "From the confusion matrix values the following metrics will be extracted:\n",
    "\n",
    "* **Accuracy**: percentage of correct decisions made from all the decisions made, that is: $$ Recall = \\frac{TP + TN}{P + N} \\in [0, 1] $$\n",
    "\n",
    "\n",
    "* **Precision**: percentage of true positives from all the predicted positives:  $$ Precision (P) = \\frac{TP}{TP + FP} \\in [0, 1] $$\n",
    "\n",
    "\n",
    "* **Recall**: percentage of true positives from all the actual positives: $$ Recall (R) = \\frac{TP}{TP + FN} \\in [0, 1] $$\n",
    "\n",
    "\n",
    "* **F1-Score**: harmonic mean of the precision and recall: $$ F1 = 2* \\frac{P * R}{P + R} \\in [0, 1] $$"
   ]
  },
  {
   "cell_type": "code",
   "execution_count": 21,
   "metadata": {},
   "outputs": [],
   "source": [
    "# All model metrics will be stored in the scores dictionary for further use\n",
    "scores = {}"
   ]
  },
  {
   "cell_type": "code",
   "execution_count": 22,
   "metadata": {},
   "outputs": [
    {
     "name": "stdout",
     "output_type": "stream",
     "text": [
      "Accuracy 0.800000\n",
      "\n",
      "[[74 19]\n",
      " [20 82]]\n",
      "              precision    recall  f1-score   support\n",
      "\n",
      "           0       0.79      0.80      0.79        93\n",
      "           1       0.81      0.80      0.81       102\n",
      "\n",
      "    accuracy                           0.80       195\n",
      "   macro avg       0.80      0.80      0.80       195\n",
      "weighted avg       0.80      0.80      0.80       195\n",
      "\n"
     ]
    }
   ],
   "source": [
    "print_metrics(svm_clf, X_test, y_test, svm_y_pred)"
   ]
  },
  {
   "cell_type": "markdown",
   "metadata": {},
   "source": [
    "We obtained the accuracy, the confusion matrix and scores: precision, recall and f1-score values. However, we've obtained these scores separetely by each class. Let's get the average values."
   ]
  },
  {
   "cell_type": "code",
   "execution_count": 23,
   "metadata": {},
   "outputs": [
    {
     "data": {
      "text/plain": [
       "{'smv_1': [0.8, 0.8118811881188119, 0.803921568627451, 0.8078817733990149]}"
      ]
     },
     "execution_count": 23,
     "metadata": {},
     "output_type": "execute_result"
    }
   ],
   "source": [
    "scores['smv_1'] = get_metrics(svm_clf, X_test, y_test, svm_y_pred)\n",
    "scores"
   ]
  },
  {
   "cell_type": "markdown",
   "metadata": {},
   "source": [
    "**As we can see, we obtained a 0.80 accuracy for the SVM with linear kernel model.**\n",
    "\n",
    "Let's plot the difference between the real values and the predicted values to see how well the model fits."
   ]
  },
  {
   "cell_type": "code",
   "execution_count": 24,
   "metadata": {},
   "outputs": [
    {
     "data": {
      "image/png": "[encoded data removed]",
      "text/plain": [
       "<Figure size 432x288 with 1 Axes>"
      ]
     },
     "metadata": {
      "needs_background": "light"
     },
     "output_type": "display_data"
    }
   ],
   "source": [
    "distribution_plot(y_test, svm_y_pred)"
   ]
  },
  {
   "cell_type": "markdown",
   "metadata": {},
   "source": [
    "As we van see, for both classes (0 and 1) our model underfits the data."
   ]
  },
  {
   "cell_type": "markdown",
   "metadata": {},
   "source": [
    "### Model 1.2: SVM with non-linear decision boundary (Gaussian Kernels)\n",
    "\n",
    "Despite finding out that the linear kernel is a better parameter for the SVM classifier with this data, let's train the model using Support Vector Machines (SVM) with non-linear decision boundary. For example, we will use Gaussian Kernels."
   ]
  },
  {
   "cell_type": "code",
   "execution_count": 25,
   "metadata": {},
   "outputs": [
    {
     "name": "stdout",
     "output_type": "stream",
     "text": [
      "Accuracy 0.769231\n",
      "\n",
      "[[61 32]\n",
      " [13 89]]\n",
      "              precision    recall  f1-score   support\n",
      "\n",
      "           0       0.82      0.66      0.73        93\n",
      "           1       0.74      0.87      0.80       102\n",
      "\n",
      "    accuracy                           0.77       195\n",
      "   macro avg       0.78      0.76      0.76       195\n",
      "weighted avg       0.78      0.77      0.77       195\n",
      "\n"
     ]
    }
   ],
   "source": [
    "# Test SVM with non-linear decision boundary\n",
    "\n",
    "# Use of Gaussian Kernels (options: linear, rbf and sigmoid)\n",
    "svm_clf_gaussian = SVC(kernel='rbf', gamma='auto')\n",
    "svm_clf_gaussian.fit(X_train, y_train)\n",
    "gaussian_y_pred = svm_clf_gaussian.predict(X_test)\n",
    "\n",
    "print_metrics(svm_clf_gaussian, X_test, y_test, gaussian_y_pred)"
   ]
  },
  {
   "cell_type": "code",
   "execution_count": 26,
   "metadata": {},
   "outputs": [
    {
     "data": {
      "text/plain": [
       "[0.7692307692307693,\n",
       " 0.7355371900826446,\n",
       " 0.8725490196078431,\n",
       " 0.7982062780269059]"
      ]
     },
     "execution_count": 26,
     "metadata": {},
     "output_type": "execute_result"
    }
   ],
   "source": [
    "scores['smv_2'] = get_metrics(svm_clf_gaussian, X_test, y_test, gaussian_y_pred)\n",
    "scores['smv_2']"
   ]
  },
  {
   "cell_type": "code",
   "execution_count": 27,
   "metadata": {},
   "outputs": [
    {
     "data": {
      "image/png": "[encoded data removed]",
      "text/plain": [
       "<Figure size 432x288 with 1 Axes>"
      ]
     },
     "metadata": {
      "needs_background": "light"
     },
     "output_type": "display_data"
    }
   ],
   "source": [
    "distribution_plot(y_test, gaussian_y_pred)"
   ]
  },
  {
   "cell_type": "markdown",
   "metadata": {},
   "source": [
    "<a name='section_2_2_2'></a>\n",
    "\n",
    "## 2.2.2. Model 2: KNN\n",
    "\n",
    "As we are working with numerical features (not text data) in a classification problem, we can also use K-Nearest Neighbour classifier.\n",
    "\n",
    "Resources: https://scikit-learn.org/stable/modules/neighbors.html\n",
    "\n",
    "As in the previous examples, let's tune the classifier's parameters:"
   ]
  },
  {
   "cell_type": "code",
   "execution_count": 28,
   "metadata": {},
   "outputs": [
    {
     "name": "stdout",
     "output_type": "stream",
     "text": [
      "Performing grid search...\n",
      "parameters:\n",
      "{'knn__n_neighbors': [1, 40], 'knn__weights': ('uniform', 'distance'), 'knn__algorithm': ('auto', 'ball_tree', 'kd_tree', 'brute')}\n",
      "Fitting 5 folds for each of 16 candidates, totalling 80 fits\n"
     ]
    },
    {
     "name": "stderr",
     "output_type": "stream",
     "text": [
      "[Parallel(n_jobs=-1)]: Using backend LokyBackend with 4 concurrent workers.\n"
     ]
    },
    {
     "name": "stdout",
     "output_type": "stream",
     "text": [
      "done in 1.137s\n",
      "\n",
      "Best score: 0.773\n",
      "Best parameters set:\n",
      "\tknn__algorithm: 'auto'\n",
      "\tknn__n_neighbors: 40\n",
      "\tknn__weights: 'uniform'\n"
     ]
    },
    {
     "name": "stderr",
     "output_type": "stream",
     "text": [
      "[Parallel(n_jobs=-1)]: Done  80 out of  80 | elapsed:    1.1s finished\n"
     ]
    }
   ],
   "source": [
    "from sklearn.neighbors import KNeighborsClassifier\n",
    "\n",
    "# Select hyperamaters\n",
    "pipeline = Pipeline([\n",
    "    ('knn', KNeighborsClassifier()),\n",
    "])\n",
    "\n",
    "parameters = {'knn__n_neighbors': [1, 40], \n",
    "              'knn__weights': ('uniform', 'distance'),\n",
    "              'knn__algorithm': ('auto', 'ball_tree', 'kd_tree', 'brute')\n",
    "             }\n",
    "\n",
    "select_hyperparameters(pipeline, parameters)"
   ]
  },
  {
   "cell_type": "markdown",
   "metadata": {},
   "source": [
    "Use the model with the best parameter set and fit it with the training data:"
   ]
  },
  {
   "cell_type": "code",
   "execution_count": 29,
   "metadata": {},
   "outputs": [
    {
     "name": "stdout",
     "output_type": "stream",
     "text": [
      "Accuracy 0.769231\n",
      "\n",
      "[[69 24]\n",
      " [21 81]]\n",
      "              precision    recall  f1-score   support\n",
      "\n",
      "           0       0.77      0.74      0.75        93\n",
      "           1       0.77      0.79      0.78       102\n",
      "\n",
      "    accuracy                           0.77       195\n",
      "   macro avg       0.77      0.77      0.77       195\n",
      "weighted avg       0.77      0.77      0.77       195\n",
      "\n"
     ]
    }
   ],
   "source": [
    "knn = KNeighborsClassifier(40, weights='uniform')\n",
    "knn.fit(X_train, y_train)\n",
    "knn_y_pred = knn.predict(X_test)\n",
    "\n",
    "print_metrics(knn, X_test, y_test, knn_y_pred)"
   ]
  },
  {
   "cell_type": "code",
   "execution_count": 30,
   "metadata": {},
   "outputs": [
    {
     "data": {
      "text/plain": [
       "[0.7692307692307693, 0.7714285714285715, 0.7941176470588235, 0.782608695652174]"
      ]
     },
     "execution_count": 30,
     "metadata": {},
     "output_type": "execute_result"
    }
   ],
   "source": [
    "scores['knn_n40'] = get_metrics(knn, X_test, y_test, knn_y_pred)\n",
    "scores['knn_n40']"
   ]
  },
  {
   "cell_type": "code",
   "execution_count": 31,
   "metadata": {},
   "outputs": [
    {
     "data": {
      "image/png": "[encoded data removed]",
      "text/plain": [
       "<Figure size 432x288 with 1 Axes>"
      ]
     },
     "metadata": {
      "needs_background": "light"
     },
     "output_type": "display_data"
    }
   ],
   "source": [
    "distribution_plot(y_test, knn_y_pred)"
   ]
  },
  {
   "cell_type": "markdown",
   "metadata": {},
   "source": [
    "We've found that a good number of neighbours for this data using a KNN classifier is n=40.\n",
    "We can also try with a smaller number of neighbours to see the results we obtain. Let's see with n=2 and n=5."
   ]
  },
  {
   "cell_type": "code",
   "execution_count": 32,
   "metadata": {},
   "outputs": [
    {
     "name": "stdout",
     "output_type": "stream",
     "text": [
      "Accuracy 0.666667\n",
      "\n",
      "[[80 13]\n",
      " [52 50]]\n",
      "              precision    recall  f1-score   support\n",
      "\n",
      "           0       0.61      0.86      0.71        93\n",
      "           1       0.79      0.49      0.61       102\n",
      "\n",
      "    accuracy                           0.67       195\n",
      "   macro avg       0.70      0.68      0.66       195\n",
      "weighted avg       0.70      0.67      0.66       195\n",
      "\n"
     ]
    }
   ],
   "source": [
    "from sklearn.neighbors import KNeighborsClassifier\n",
    "\n",
    "knn = KNeighborsClassifier(2, weights='uniform')\n",
    "knn.fit(X_train, y_train)\n",
    "knn_y_pred = knn.predict(X_test)\n",
    "\n",
    "print_metrics(knn, X_test, y_test, knn_y_pred)"
   ]
  },
  {
   "cell_type": "code",
   "execution_count": 33,
   "metadata": {},
   "outputs": [
    {
     "data": {
      "text/plain": [
       "[0.6666666666666666,\n",
       " 0.7936507936507936,\n",
       " 0.49019607843137253,\n",
       " 0.6060606060606061]"
      ]
     },
     "execution_count": 33,
     "metadata": {},
     "output_type": "execute_result"
    }
   ],
   "source": [
    "scores['knn_n2'] = get_metrics(knn, X_test, y_test, knn_y_pred)\n",
    "scores['knn_n2']"
   ]
  },
  {
   "cell_type": "code",
   "execution_count": 34,
   "metadata": {},
   "outputs": [
    {
     "data": {
      "image/png": "[encoded data removed]",
      "text/plain": [
       "<Figure size 432x288 with 1 Axes>"
      ]
     },
     "metadata": {
      "needs_background": "light"
     },
     "output_type": "display_data"
    }
   ],
   "source": [
    "distribution_plot(y_test, knn_y_pred)"
   ]
  },
  {
   "cell_type": "code",
   "execution_count": 35,
   "metadata": {},
   "outputs": [
    {
     "name": "stdout",
     "output_type": "stream",
     "text": [
      "Accuracy 0.733333\n",
      "\n",
      "[[70 23]\n",
      " [29 73]]\n",
      "              precision    recall  f1-score   support\n",
      "\n",
      "           0       0.71      0.75      0.73        93\n",
      "           1       0.76      0.72      0.74       102\n",
      "\n",
      "    accuracy                           0.73       195\n",
      "   macro avg       0.73      0.73      0.73       195\n",
      "weighted avg       0.73      0.73      0.73       195\n",
      "\n"
     ]
    }
   ],
   "source": [
    "# Test KNN with 5 neighbours\n",
    "\n",
    "knn = KNeighborsClassifier(5, weights='uniform')\n",
    "knn.fit(X_train, y_train)\n",
    "knn_y_pred = knn.predict(X_test)\n",
    "\n",
    "print_metrics(knn, X_test, y_test, knn_y_pred)\n",
    "scores['knn_n5'] = get_metrics(knn, X_test, y_test, knn_y_pred)"
   ]
  },
  {
   "cell_type": "code",
   "execution_count": 36,
   "metadata": {},
   "outputs": [
    {
     "data": {
      "image/png": "[encoded data removed]",
      "text/plain": [
       "<Figure size 432x288 with 1 Axes>"
      ]
     },
     "metadata": {
      "needs_background": "light"
     },
     "output_type": "display_data"
    }
   ],
   "source": [
    "distribution_plot(y_test, knn_y_pred)"
   ]
  },
  {
   "cell_type": "markdown",
   "metadata": {},
   "source": [
    "### How to choose N?\n",
    "\n",
    "Another way to find a good value for the number of neighbours parameters is to calculate the mean error for a range of K values. Let's see how the KNN classifier performs for a range of N between 1 and 40.\n",
    "\n",
    "Resource: https://stackabuse.com/k-nearest-neighbors-algorithm-in-python-and-scikit-learn/"
   ]
  },
  {
   "cell_type": "code",
   "execution_count": 37,
   "metadata": {},
   "outputs": [
    {
     "data": {
      "text/plain": [
       "Text(0, 0.5, 'Mean Error')"
      ]
     },
     "execution_count": 37,
     "metadata": {},
     "output_type": "execute_result"
    },
    {
     "data": {
      "image/png": "[encoded data removed]",
      "text/plain": [
       "<Figure size 864x432 with 1 Axes>"
      ]
     },
     "metadata": {
      "needs_background": "light"
     },
     "output_type": "display_data"
    }
   ],
   "source": [
    "error = []\n",
    "\n",
    "# Calculating error for K values between 1 and 40\n",
    "for i in range(1, 40):\n",
    "    knn = KNeighborsClassifier(n_neighbors=i)\n",
    "    knn.fit(X_train, y_train)\n",
    "    pred_i = knn.predict(X_test)\n",
    "    error.append(np.mean(pred_i != y_test))\n",
    "    \n",
    "# Plot the results\n",
    "plt.figure(figsize=(12, 6))\n",
    "plt.plot(range(1, 40), error, color='red', linestyle='dashed', marker='o',\n",
    "         markerfacecolor='blue', markersize=10)\n",
    "plt.title('Error Rate K Value')\n",
    "plt.xlabel('K Value')\n",
    "plt.ylabel('Mean Error')"
   ]
  },
  {
   "cell_type": "markdown",
   "metadata": {},
   "source": [
    "**The best hyperparameters will be those that minimize the error, that is, the difference between the actual value and the predicted value. Therefore, we want a mean error close to 0.\n",
    "\n",
    "We see that the mean error descends when the number of neighbours is bigger and is pretty good when N=37 (in this case, we don't have a validation test set)"
   ]
  },
  {
   "cell_type": "code",
   "execution_count": 38,
   "metadata": {},
   "outputs": [
    {
     "name": "stdout",
     "output_type": "stream",
     "text": [
      "Accuracy 0.779487\n",
      "\n",
      "[[69 24]\n",
      " [19 83]]\n",
      "              precision    recall  f1-score   support\n",
      "\n",
      "           0       0.78      0.74      0.76        93\n",
      "           1       0.78      0.81      0.79       102\n",
      "\n",
      "    accuracy                           0.78       195\n",
      "   macro avg       0.78      0.78      0.78       195\n",
      "weighted avg       0.78      0.78      0.78       195\n",
      "\n"
     ]
    },
    {
     "data": {
      "image/png": "[encoded data removed]",
      "text/plain": [
       "<Figure size 432x288 with 1 Axes>"
      ]
     },
     "metadata": {
      "needs_background": "light"
     },
     "output_type": "display_data"
    }
   ],
   "source": [
    "knn = KNeighborsClassifier(37, weights='uniform')\n",
    "knn.fit(X_train, y_train)\n",
    "knn_y_pred = knn.predict(X_test)\n",
    "\n",
    "print_metrics(knn, X_test, y_test, knn_y_pred)\n",
    "scores['knn_n37'] = get_metrics(knn, X_test, y_test, knn_y_pred)\n",
    "\n",
    "distribution_plot(y_test, knn_y_pred)"
   ]
  },
  {
   "cell_type": "markdown",
   "metadata": {},
   "source": [
    "<a name='section_2_2_3'></a>\n",
    "\n",
    "## 2.2.3. Model 3: Random Forest\n",
    "\n",
    "To try to improve the KNN results for numerical features, we'll try Random Forest classifier.\n",
    "\n",
    "Resources: https://scikit-learn.org/stable/modules/generated/sklearn.ensemble.RandomForestClassifier.html#sklearn.ensemble.RandomForestClassifier\n",
    "\n",
    "As we've seen before, first we'll tune the classifier's parameters:"
   ]
  },
  {
   "cell_type": "code",
   "execution_count": 39,
   "metadata": {},
   "outputs": [
    {
     "name": "stdout",
     "output_type": "stream",
     "text": [
      "Performing grid search...\n",
      "parameters:\n",
      "{'rfc__n_estimators': [10, 50, 100, 150]}\n",
      "Fitting 5 folds for each of 4 candidates, totalling 20 fits\n"
     ]
    },
    {
     "name": "stderr",
     "output_type": "stream",
     "text": [
      "[Parallel(n_jobs=-1)]: Using backend LokyBackend with 4 concurrent workers.\n",
      "[Parallel(n_jobs=-1)]: Done  20 out of  20 | elapsed:    2.4s finished\n"
     ]
    },
    {
     "name": "stdout",
     "output_type": "stream",
     "text": [
      "done in 2.763s\n",
      "\n",
      "Best score: 0.811\n",
      "Best parameters set:\n",
      "\trfc__n_estimators: 100\n"
     ]
    }
   ],
   "source": [
    "from sklearn.ensemble import RandomForestClassifier\n",
    "\n",
    "# Select hyperamaters\n",
    "pipeline = Pipeline([\n",
    "    ('rfc', RandomForestClassifier()),\n",
    "])\n",
    "\n",
    "# n_estimators: The number of trees in the forest.\n",
    "parameters = {'rfc__n_estimators': [10, 50, 100, 150],\n",
    "              #'rfc__criterion': [\"gini\", \"entropy\"]\n",
    "             }\n",
    "\n",
    "select_hyperparameters(pipeline, parameters)"
   ]
  },
  {
   "cell_type": "code",
   "execution_count": 40,
   "metadata": {},
   "outputs": [
    {
     "data": {
      "text/plain": [
       "RandomForestClassifier(bootstrap=True, class_weight=None, criterion='gini',\n",
       "                       max_depth=None, max_features='auto', max_leaf_nodes=None,\n",
       "                       min_impurity_decrease=0.0, min_impurity_split=None,\n",
       "                       min_samples_leaf=1, min_samples_split=2,\n",
       "                       min_weight_fraction_leaf=0.0, n_estimators=100,\n",
       "                       n_jobs=None, oob_score=False, random_state=None,\n",
       "                       verbose=0, warm_start=False)"
      ]
     },
     "execution_count": 40,
     "metadata": {},
     "output_type": "execute_result"
    }
   ],
   "source": [
    "rfc = RandomForestClassifier(n_estimators=100)\n",
    "rfc.fit(X_train, y_train)"
   ]
  },
  {
   "cell_type": "code",
   "execution_count": 41,
   "metadata": {},
   "outputs": [
    {
     "name": "stdout",
     "output_type": "stream",
     "text": [
      "Accuracy 0.789744\n",
      "\n",
      "[[75 18]\n",
      " [23 79]]\n",
      "              precision    recall  f1-score   support\n",
      "\n",
      "           0       0.77      0.81      0.79        93\n",
      "           1       0.81      0.77      0.79       102\n",
      "\n",
      "    accuracy                           0.79       195\n",
      "   macro avg       0.79      0.79      0.79       195\n",
      "weighted avg       0.79      0.79      0.79       195\n",
      "\n"
     ]
    }
   ],
   "source": [
    "rfc_y_pred = rfc.predict(X_test)\n",
    "scores['rfc'] = get_metrics(rfc, X_test, y_test, rfc_y_pred)\n",
    "print_metrics(rfc, X_test, y_test, rfc_y_pred)"
   ]
  },
  {
   "cell_type": "code",
   "execution_count": 42,
   "metadata": {},
   "outputs": [
    {
     "data": {
      "image/png": "[encoded data removed]",
      "text/plain": [
       "<Figure size 432x288 with 1 Axes>"
      ]
     },
     "metadata": {
      "needs_background": "light"
     },
     "output_type": "display_data"
    }
   ],
   "source": [
    "distribution_plot(y_test, rfc_y_pred)"
   ]
  },
  {
   "cell_type": "markdown",
   "metadata": {},
   "source": [
    "<a name='chapter3'></a>\n",
    "\n",
    "# 3. Model Comparison\n",
    "\n",
    "### Table to compare the main metrics (accuracy, precision, recall and F1) for each of the three models  "
   ]
  },
  {
   "cell_type": "code",
   "execution_count": 43,
   "metadata": {},
   "outputs": [
    {
     "data": {
      "text/html": [
       "<div>\n",
       "<style scoped>\n",
       "    .dataframe tbody tr th:only-of-type {\n",
       "        vertical-align: middle;\n",
       "    }\n",
       "\n",
       "    .dataframe tbody tr th {\n",
       "        vertical-align: top;\n",
       "    }\n",
       "\n",
       "    .dataframe thead th {\n",
       "        text-align: right;\n",
       "    }\n",
       "</style>\n",
       "<table border=\"1\" class=\"dataframe\">\n",
       "  <thead>\n",
       "    <tr style=\"text-align: right;\">\n",
       "      <th>Scores</th>\n",
       "      <th>Accuracy</th>\n",
       "      <th>Precission</th>\n",
       "      <th>Recall</th>\n",
       "      <th>F1-Score</th>\n",
       "    </tr>\n",
       "    <tr>\n",
       "      <th>Algorithms</th>\n",
       "      <th></th>\n",
       "      <th></th>\n",
       "      <th></th>\n",
       "      <th></th>\n",
       "    </tr>\n",
       "  </thead>\n",
       "  <tbody>\n",
       "    <tr>\n",
       "      <th>SVM Linear Kernel</th>\n",
       "      <td>0.800000</td>\n",
       "      <td>0.811881</td>\n",
       "      <td>0.803922</td>\n",
       "      <td>0.807882</td>\n",
       "    </tr>\n",
       "    <tr>\n",
       "      <th>K-Nearest Neighbours (N=40)</th>\n",
       "      <td>0.769231</td>\n",
       "      <td>0.771429</td>\n",
       "      <td>0.794118</td>\n",
       "      <td>0.782609</td>\n",
       "    </tr>\n",
       "    <tr>\n",
       "      <th>Random Forest</th>\n",
       "      <td>0.789744</td>\n",
       "      <td>0.814433</td>\n",
       "      <td>0.774510</td>\n",
       "      <td>0.793970</td>\n",
       "    </tr>\n",
       "  </tbody>\n",
       "</table>\n",
       "</div>"
      ],
      "text/plain": [
       "Scores                       Accuracy  Precission    Recall  F1-Score\n",
       "Algorithms                                                           \n",
       "SVM Linear Kernel            0.800000    0.811881  0.803922  0.807882\n",
       "K-Nearest Neighbours (N=40)  0.769231    0.771429  0.794118  0.782609\n",
       "Random Forest                0.789744    0.814433  0.774510  0.793970"
      ]
     },
     "execution_count": 43,
     "metadata": {},
     "output_type": "execute_result"
    }
   ],
   "source": [
    "classifiers = {'smv_1': 'SVM Linear Kernel', \n",
    "               'knn_n40': 'K-Nearest Neighbours (N=40)', \n",
    "               'rfc': 'Random Forest'}\n",
    "\n",
    "clf_selected = {k: scores[k] for k in ('smv_1', 'knn_n40', 'rfc')}\n",
    "\n",
    "clf_df = pd.DataFrame(clf_selected, index = ['Accuracy', 'Precission', 'Recall', 'F1-Score'])\n",
    "clf_df.rename(columns=classifiers, inplace=True)\n",
    "clf_df.rename_axis('Scores', axis='index', inplace=True)\n",
    "clf_df.rename_axis('Algorithms', axis='columns', inplace=True)\n",
    "clf_df.T"
   ]
  },
  {
   "cell_type": "markdown",
   "metadata": {},
   "source": [
    "### ROC curves and AUC\n",
    "\n",
    "**ROC curves** are typically used in binary classification to study the output of a classifier and evaluate it's quality.\n",
    "\n",
    "Receiver Operating Characteristic (ROC) curves is a metric that depicts relative trade-offs that a classifier majes between benefits (true positives) and costs (false positives).\n",
    "\n",
    "ROC curves typically feature true positive rate on the Y axis, and false positive rate on the X axis. This means that the top left corner of the plot is the “ideal” point - a false positive rate of zero, and a true positive rate of one. This is not very realistic, but it does mean that a larger area under the curve (AUC) is usually better.\n",
    "\n",
    "**For a perfect classifier the ROC curve will go straight up the Y axis and then along the X axis. A classifier with no power will sit on the diagonal, whilst most classifiers fall somewhere in between.**\n",
    "\n",
    "The \"steepness\" of ROC curves is also important, since it is ideal to maximize the true positive rate while minimizing the false positive rate.\n",
    "\n",
    "The ROC curve is a useful tool for a few reasons:\n",
    "- The curves of different models can be compared.\n",
    "- The area under the curve (AUC) can be used as a summary of the model skill.\n",
    "\n",
    "More info: https://machinelearningmastery.com/assessing-comparing-classifier-performance-roc-curves-2/ and  https://machinelearningmastery.com/roc-curves-and-precision-recall-curves-for-classification-in-python/"
   ]
  },
  {
   "cell_type": "code",
   "execution_count": 44,
   "metadata": {},
   "outputs": [],
   "source": [
    "from sklearn.metrics import roc_curve\n",
    "from sklearn.metrics import roc_auc_score\n",
    "from matplotlib import pyplot\n",
    "\n",
    "\n",
    "# ROC curve and AUC\n",
    "def plot_roc_curve(y_test, probs):\n",
    "    # keep probabilities for the positive outcome only\n",
    "    probs = probs[:, 1]\n",
    "    # calculate scores and roc curve\n",
    "    auc = roc_auc_score(y_test, probs)\n",
    "    fpr, tpr, _ = roc_curve(y_test, probs)\n",
    "\n",
    "    # plot the roc curve for the model\n",
    "    pyplot.plot(fpr, tpr, color='darkorange', marker='.', label='ROC curve (area = %0.2f)' % auc)\n",
    "    plt.plot([0, 1], [0, 1], color='navy', linestyle='--')\n",
    "    plt.xlim([0.0, 1.0])\n",
    "    plt.ylim([0.0, 1.05])\n",
    "\n",
    "    # axis labels\n",
    "    pyplot.xlabel('False Positive Rate')\n",
    "    pyplot.ylabel('True Positive Rate')\n",
    "\n",
    "    pyplot.legend(loc=\"lower right\")\n",
    "    pyplot.show()"
   ]
  },
  {
   "cell_type": "markdown",
   "metadata": {},
   "source": [
    "### SVM (Linear Kernel) ROC Curve"
   ]
  },
  {
   "cell_type": "code",
   "execution_count": 45,
   "metadata": {},
   "outputs": [
    {
     "data": {
      "image/png": "[encoded data removed]",
      "text/plain": [
       "<Figure size 432x288 with 1 Axes>"
      ]
     },
     "metadata": {
      "needs_background": "light"
     },
     "output_type": "display_data"
    }
   ],
   "source": [
    "svm_clf = SVC(kernel='linear', C=10, probability=True)\n",
    "svm_clf.fit(X_train, y_train)\n",
    "# predict probabilities\n",
    "probs = svm_clf.predict_proba(X_test)\n",
    "\n",
    "plot_roc_curve(y_test, probs)"
   ]
  },
  {
   "cell_type": "markdown",
   "metadata": {},
   "source": [
    "### KNN (n=40) ROC curve"
   ]
  },
  {
   "cell_type": "code",
   "execution_count": 46,
   "metadata": {},
   "outputs": [
    {
     "data": {
      "image/png": "[encoded data removed]",
      "text/plain": [
       "<Figure size 432x288 with 1 Axes>"
      ]
     },
     "metadata": {
      "needs_background": "light"
     },
     "output_type": "display_data"
    }
   ],
   "source": [
    "knn = KNeighborsClassifier(40, weights='uniform')\n",
    "knn.fit(X_train, y_train)\n",
    "plot_roc_curve(y_test, knn.predict_proba(X_test))"
   ]
  },
  {
   "cell_type": "markdown",
   "metadata": {},
   "source": [
    "### Random Forest ROC curve"
   ]
  },
  {
   "cell_type": "code",
   "execution_count": 47,
   "metadata": {},
   "outputs": [
    {
     "data": {
      "image/png": "[encoded data removed]",
      "text/plain": [
       "<Figure size 432x288 with 1 Axes>"
      ]
     },
     "metadata": {
      "needs_background": "light"
     },
     "output_type": "display_data"
    }
   ],
   "source": [
    "plot_roc_curve(y_test, rfc.predict_proba(X_test))"
   ]
  },
  {
   "cell_type": "markdown",
   "metadata": {},
   "source": [
    "<a name='chapter4'></a>\n",
    "\n",
    "# 4. Conclusions\n",
    "\n",
    "In this classification problem, we have train and tested three different classifiers with the provided dataset.\n",
    "As we don't have information about the original dataset and the meaning of the features, we can't assess the relative importance of each metric for the task. \n",
    "For example: do we prefer not to label as positive a sample that is negative or do we prefer to find all the positive samples? That is, do we prefer a higher precision or a higher recall? Or is the accuracy enough as a metric?\n",
    "\n",
    "In the previous chapter we've seen a comparison table of these metrics for each of the selected classifiers. The numbers tell us that the SVM (Linear SVC) outperforms the other classifiers. \n",
    "\n",
    "As the ROC curves and AUC value are the same for SVM and Random Forest (0.87), we will choose SVM as a classifier for the given data."
   ]
  }
 ],
 "metadata": {
  "kernelspec": {
   "display_name": "Python 3",
   "language": "python",
   "name": "python3"
  },
  "language_info": {
   "codemirror_mode": {
    "name": "ipython",
    "version": 3
   },
   "file_extension": ".py",
   "mimetype": "text/x-python",
   "name": "python",
   "nbconvert_exporter": "python",
   "pygments_lexer": "ipython3",
   "version": "3.7.7"
  }
 },
 "nbformat": 4,
 "nbformat_minor": 4
}
